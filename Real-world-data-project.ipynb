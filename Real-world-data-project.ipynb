{
 "cells": [
  {
   "cell_type": "markdown",
   "metadata": {},
   "source": [
    "<img src=\"https://learnonline.gmit.ie/pluginfile.php/1/theme_adaptable/logo/1538655948/Transparent%20new.png\" align=\"left\"/>"
   ]
  },
  {
   "cell_type": "markdown",
   "metadata": {},
   "source": [
    "<h1>Higher Diploma in Science in Computing (Data Analytics) - Programming for Data Analysis</h1>\n",
    "<h2>Real World Data Project - December 2018</h2> \n",
    "<h3>Cóbhan Phillipson</h3>\n",
    "<hr>"
   ]
  },
  {
   "cell_type": "markdown",
   "metadata": {},
   "source": [
    "<h3>Introduction</h3>\n",
    "<p>This project is conducted as part of a project for a Programming for Data Analysis module. This module is part of the Higher Diploma in Science in Computing (Data Analytics) in GMIT. Having focused our analysis so far on existing datasets, this project is something of a departure in that we are required to create a data set by simulating a real-world phenomenon of our own choosing.</p> \n",
    "\n",
    "<p>This project requirements are the following:</p>\n",
    "<ul><li>Choose a real-world phenomenon that can be measured and contains at least one-hundred data points across at least four different variables.</li>\n",
    "<li>Investigate the types of variables involved, their likely distributions, and their relationships with each other.</li>\n",
    "<li>Synthesise/simulate a data set as closely matching their properties as possible.</li>\n",
    "<li>Detail the research and implement the simulation in a Jupyter notebook – the data set itself can simply be displayed in an output cell within the notebook.</li></ul>\n",
    "\n",
    "<p>For my first foray into the world of dataset creation, I have chosen to analyze the incidence of injuries in elite level county hurling. The variables I will examine include the type of injuries sustained, whether these injuries were sustained during matches or training, the injured area, and the age of the players in question. </p>\n",
    "\n",
    "<p>The following variables will be included:</p>\n",
    "<ul><li><strong>Age</strong> (18-38)</li>\n",
    "<li><strong>Occasion</strong> (Game, Training, Training Game, Unspecified)</li>\n",
    "<li><strong>Weather Conditions</strong> (Dry, Wet, Dry and Windy, Wet and Windy, Snowing, Windy)</li>\n",
    "<li><strong>Injured Region</strong> (Head/neck, Shoulder/arm/elbow, Forearm/wrist/hand, Trunk/spine, Hip/groin/thigh,  Knee, Shin/ankle foot)</li></ul>"
   ]
  },
  {
   "cell_type": "markdown",
   "metadata": {
    "collapsed": true
   },
   "source": [
    "<h3>Age</h3>\n",
    "<p>To begin this research, I will analyze the age variable. I will build on data from a 2013 research project by John C Murphy which found the mean age of the intercounty hurler to be 23.3±2.5 years[1]. I will generate 250 subjects for this study using NumPy random package - and weighting the data set in accordance with the average age.</p>"
   ]
  },
  {
   "cell_type": "code",
   "execution_count": 3,
   "metadata": {
    "collapsed": true
   },
   "outputs": [],
   "source": [
    "# Import libraries\n",
    "import numpy as np\n",
    "import numpy.random as npr\n",
    "import pandas as pd\n",
    "import matplotlib.pyplot as plt\n",
    "import seaborn as sns\n",
    "%matplotlib inline"
   ]
  },
  {
   "cell_type": "code",
   "execution_count": 6,
   "metadata": {},
   "outputs": [
    {
     "name": "stdout",
     "output_type": "stream",
     "text": [
      "[ 21.4137002   20.78639943  28.51655687  19.41422171  21.66649306\n",
      "  22.78256971  23.18047132  26.18678402  18.06398604  24.01228529\n",
      "  23.39039033  19.42210159  21.81704818  28.80273534  24.78217094\n",
      "  25.50235687  20.74229158  25.82098225  24.42599905  23.49840799\n",
      "  25.01986678  17.63998098  24.13666854  21.83456574  21.04119811\n",
      "  21.72304199  24.60409681  27.24615405  21.70515184  22.3412805\n",
      "  20.27371733  21.44834105  28.49523023  24.19786528  25.25148586\n",
      "  19.79107313  23.27592422  25.15192893  23.15886282  24.62508468\n",
      "  27.35282132  23.94204482  27.16585854  20.48165168  23.96229468\n",
      "  22.69363997  25.72788861  22.98272473  24.77587331  20.54239089\n",
      "  21.20940533  22.81031678  23.24385886  23.15368608  28.34724228\n",
      "  20.78414863  23.40783355  25.43366237  21.07153448  23.93076121\n",
      "  22.74401365  22.66584218  21.04991435  25.7668802   17.98538887\n",
      "  23.46432272  24.19263812  24.89266474  27.11548631  24.49673246\n",
      "  20.77658532  25.67241383  22.23618757  21.20007553  22.80111426\n",
      "  24.79907702  22.48970713  27.61352826  24.81433599  27.12373984\n",
      "  23.7091618   22.90901683  25.29606541  24.26323725  25.30318065\n",
      "  22.91242411  22.13545417  20.73892223  23.47284367  23.14509314\n",
      "  25.85990792  26.87288908  22.66936334  26.15830834  27.20098905\n",
      "  26.41349136  20.87002077  19.98525146  23.56064302  26.45089268\n",
      "  22.19466992  24.05474612  25.22660552  24.63823295  27.1868168\n",
      "  19.3073858   25.32251045  22.79794406  24.23838996  24.78381216\n",
      "  26.55526634  23.02024439  23.5741431   22.23049431  23.97194626\n",
      "  24.02915022  26.49191454  28.19794359  20.79262531  23.21871284\n",
      "  20.30251253  18.29107021  19.36994975  18.49689639  22.19895117\n",
      "  26.72878873  25.26825289  20.59582746  21.44284253  20.42599717\n",
      "  23.95613185  21.48002564  23.22545622  22.38559199  29.00247472\n",
      "  18.79558635  20.73594764  24.88213339  28.64624472  25.26280383\n",
      "  23.01596462  24.52384753  22.98003524  24.96750532  22.37100885\n",
      "  22.84459834  26.18864659  23.51871459  28.67941823  26.3453955\n",
      "  26.43376832  24.12550849  20.38272306  25.8478682   24.2310096\n",
      "  19.80520465  20.85141592  23.0363655   24.28171663  19.42092463\n",
      "  25.67290193  25.1641378   26.57961591  27.11464709  24.87911422\n",
      "  21.34367761  18.38422935  22.61985038  24.09201495  27.17873336\n",
      "  25.77038011  17.96088909  26.41039125  24.71594421  22.32730237\n",
      "  28.03753539  24.0537061   17.28447332  22.17770563  24.81664392\n",
      "  28.95990099  29.33323819  20.01664672  21.76972732  24.25460107\n",
      "  19.48954657  17.71371642  21.48374258  23.73778944  22.65207585\n",
      "  25.47424091  24.84761727  22.34875978  19.96074435  21.09903217\n",
      "  24.35817672  25.40032418  23.62158467  23.26491427  18.53097484\n",
      "  26.15837298  20.53610757  22.1077973   26.55859261  22.41392291\n",
      "  19.29270429  22.61960055  22.63343421  23.90811212  18.73887661\n",
      "  24.46192556  23.6579149   25.11191282  22.03872994  23.58347309\n",
      "  25.25767752  23.4638672   22.04643247  23.12033129  24.87438446\n",
      "  24.918821    24.28449262  24.435618    22.27386338  23.11293429\n",
      "  23.02688924  23.0500733   26.51200425  20.67066648  21.91400526\n",
      "  25.86773097  21.8479299   23.50970722  21.18299513  20.60536521\n",
      "  26.40725005  22.21032411  30.57131575  23.99533855  20.1072699\n",
      "  27.83117155  21.3003547   27.66746518  22.17352557  26.97346027\n",
      "  20.60953385  17.92893959  19.99385975  22.01716142  23.50418106]\n"
     ]
    }
   ],
   "source": [
    "mu, sigma = 23.3, 2.5 #set age and standard deviation\n",
    "s = np.random.normal(mu, sigma, 250) #set number of subjects as 250\n",
    "print(s)"
   ]
  },
  {
   "cell_type": "markdown",
   "metadata": {},
   "source": [
    "<p>Using matplotlib, I have plotted our random data set of hurlers and their age. </p>"
   ]
  },
  {
   "cell_type": "code",
   "execution_count": 28,
   "metadata": {},
   "outputs": [
    {
     "data": {
      "image/png": "[encoded data removed]",
      "text/plain": [
       "<matplotlib.figure.Figure at 0x11affa0b8>"
      ]
     },
     "metadata": {},
     "output_type": "display_data"
    }
   ],
   "source": [
    "import matplotlib.pyplot as plt\n",
    "import numpy as np\n",
    "mu, sigma = 23.3, 2.5 #set age and standard deviation\n",
    "x = np.random.normal(mu, sigma, 250) #set number of subjects as 250 \n",
    "plt.plot(x, 'b.') #using b. to remove unnecessary line and replace each data point with a blue dot\n",
    "plt.ylabel('age')\n",
    "ax.tick_params(labelbottom=False) #Hide label from the x axis as it is not necessary in this plot \n",
    "plt.xticks([]) #Hide x axis \n",
    "plt.show() "
   ]
  },
  {
   "cell_type": "markdown",
   "metadata": {},
   "source": [
    "The above plot just helps us to visualize the ages of intercounty hurlers today. As we can see, there is a cluster of dots around 22-24. "
   ]
  },
  {
   "cell_type": "markdown",
   "metadata": {
    "collapsed": true
   },
   "source": [
    "<h3>Occasion</h3>\n",
    "<p>The second variable we will examine is the occasion or event that the injury occured in. Within this variable are 4 possibilities - Game, Training, Training Game, and Unspecified. Once again, I will lean on John C Murphy's research to help generate this random dataset. Murphy's study showed the following break down of injury occasion:</p>\n",
    "<ul><li>Game 55.4%</li>\n",
    "<li>Training Game 16.7%</li>\n",
    "<li>Training 25%</li>\n",
    "<li>Unspecified 2.9%</li></ul>"
   ]
  },
  {
   "cell_type": "code",
   "execution_count": 2,
   "metadata": {},
   "outputs": [
    {
     "name": "stdout",
     "output_type": "stream",
     "text": [
      "['Training Game', 'Game', 'Training Game', 'Unspecified', 'Game', 'Training', 'Training Game', 'Training', 'Unspecified', 'Training Game', 'Unspecified', 'Training Game', 'Training Game', 'Unspecified', 'Unspecified', 'Training Game', 'Game', 'Training Game', 'Unspecified', 'Training', 'Unspecified', 'Training', 'Game', 'Unspecified', 'Unspecified', 'Training Game', 'Training Game', 'Game', 'Training Game', 'Game', 'Unspecified', 'Unspecified', 'Unspecified', 'Training Game', 'Training', 'Game', 'Game', 'Training Game', 'Game', 'Training', 'Training Game', 'Training', 'Training Game', 'Training Game', 'Training', 'Training Game', 'Training', 'Training', 'Unspecified', 'Training Game', 'Training', 'Unspecified', 'Training Game', 'Game', 'Game', 'Game', 'Unspecified', 'Training', 'Game', 'Training', 'Training Game', 'Unspecified', 'Game', 'Training Game', 'Game', 'Unspecified', 'Training', 'Game', 'Training Game', 'Unspecified', 'Training Game', 'Game', 'Unspecified', 'Training Game', 'Game', 'Training', 'Unspecified', 'Game', 'Training', 'Game', 'Training', 'Training', 'Training', 'Unspecified', 'Training Game', 'Unspecified', 'Training Game', 'Training Game', 'Unspecified', 'Training Game', 'Training', 'Game', 'Unspecified', 'Training Game', 'Training', 'Game', 'Unspecified', 'Training Game', 'Unspecified', 'Game', 'Unspecified', 'Training Game', 'Game', 'Training Game', 'Game', 'Unspecified', 'Game', 'Training', 'Unspecified', 'Unspecified', 'Training Game', 'Unspecified', 'Training', 'Training Game', 'Training', 'Training Game', 'Training Game', 'Training', 'Game', 'Game', 'Unspecified', 'Unspecified', 'Game', 'Training', 'Training Game', 'Unspecified', 'Unspecified', 'Training Game', 'Training Game', 'Unspecified', 'Unspecified', 'Unspecified', 'Training Game', 'Game', 'Training', 'Training Game', 'Unspecified', 'Training Game', 'Training Game', 'Training Game', 'Unspecified', 'Unspecified', 'Unspecified', 'Training', 'Training', 'Game', 'Unspecified', 'Training', 'Game', 'Unspecified', 'Training', 'Training Game', 'Training Game', 'Training Game', 'Unspecified', 'Training Game', 'Training Game', 'Unspecified', 'Unspecified', 'Game', 'Training', 'Training Game', 'Training Game', 'Unspecified', 'Training', 'Game', 'Unspecified', 'Unspecified', 'Training Game', 'Unspecified', 'Unspecified', 'Training Game', 'Training', 'Unspecified', 'Unspecified', 'Training', 'Training', 'Game', 'Unspecified', 'Training', 'Training', 'Game', 'Training Game', 'Training', 'Unspecified', 'Training Game', 'Unspecified', 'Game', 'Training Game', 'Training', 'Training', 'Training', 'Training', 'Unspecified', 'Game', 'Unspecified', 'Unspecified', 'Unspecified', 'Training Game', 'Game', 'Training Game', 'Training', 'Training Game', 'Unspecified', 'Game', 'Training', 'Training', 'Training Game', 'Unspecified', 'Unspecified', 'Training', 'Training', 'Training', 'Unspecified', 'Training', 'Unspecified', 'Game', 'Training', 'Game', 'Unspecified', 'Game', 'Training Game', 'Unspecified', 'Unspecified', 'Game', 'Training Game', 'Training', 'Training Game', 'Game', 'Unspecified', 'Game', 'Game', 'Training', 'Training Game', 'Training Game', 'Training', 'Unspecified', 'Training', 'Game', 'Game', 'Training Game', 'Training Game', 'Training', 'Game', 'Training Game', 'Unspecified', 'Game', 'Unspecified', 'Training Game', 'Training']\n"
     ]
    }
   ],
   "source": [
    "import numpy as np\n",
    "possible_occasion = ['Game', 'Training Game', 'Training', 'Unspecified'] #List of allowed strings\n",
    "my_names = [np.random.choice(possible_occasion) for i in range(250)] #Use Numpy Random function to generate an array of 250 allowed names \n",
    "print(my_names) #Thanks very much Patrick Moore https://learnonline.gmit.ie/mod/forum/discuss.php?d=7105"
   ]
  },
  {
   "cell_type": "code",
   "execution_count": 20,
   "metadata": {},
   "outputs": [
    {
     "data": {
      "text/plain": [
       "Counter({'Game': 51, 'Training': 57, 'Training Game': 69, 'Unspecified': 73})"
      ]
     },
     "execution_count": 20,
     "metadata": {},
     "output_type": "execute_result"
    }
   ],
   "source": [
    "#Using Counter tool we can identify a small problem with our output. The array is not weighted how we want it to be.\n",
    "from collections import Counter  \n",
    "c = Counter(my_names)\n",
    "c "
   ]
  },
  {
   "cell_type": "code",
   "execution_count": 3,
   "metadata": {},
   "outputs": [
    {
     "name": "stdout",
     "output_type": "stream",
     "text": [
      "['Game', 'Training Game', 'Unspecified', 'Game', 'Training Game', 'Game', 'Game', 'Training', 'Training Game', 'Training', 'Training', 'Training', 'Training', 'Game', 'Game', 'Game', 'Training', 'Training', 'Game', 'Game', 'Training Game', 'Game', 'Game', 'Training', 'Game', 'Training', 'Game', 'Game', 'Training Game', 'Unspecified', 'Training', 'Game', 'Training', 'Training Game', 'Game', 'Game', 'Game', 'Training', 'Game', 'Training Game', 'Training Game', 'Training Game', 'Training Game', 'Training', 'Game', 'Training', 'Game', 'Training', 'Game', 'Game', 'Game', 'Training', 'Game', 'Game', 'Game', 'Game', 'Game', 'Training', 'Game', 'Training', 'Training', 'Unspecified', 'Training', 'Training Game', 'Game', 'Training Game', 'Training', 'Game', 'Game', 'Game', 'Game', 'Game', 'Game', 'Unspecified', 'Game', 'Game', 'Game', 'Game', 'Game', 'Training', 'Game', 'Game', 'Game', 'Game', 'Game', 'Training Game', 'Training', 'Training Game', 'Game', 'Training', 'Game', 'Training', 'Training', 'Game', 'Game', 'Training', 'Training Game', 'Game', 'Game', 'Training', 'Game', 'Game', 'Training', 'Game', 'Training', 'Training Game', 'Game', 'Training', 'Game', 'Game', 'Game', 'Game', 'Game', 'Training', 'Training Game', 'Game', 'Training Game', 'Training Game', 'Game', 'Training', 'Game', 'Game', 'Game', 'Game', 'Game', 'Training', 'Game', 'Game', 'Game', 'Game', 'Game', 'Game', 'Training Game', 'Unspecified', 'Game', 'Training Game', 'Game', 'Training Game', 'Game', 'Training', 'Training Game', 'Training Game', 'Training', 'Game', 'Training', 'Training', 'Training', 'Game', 'Training', 'Game', 'Game', 'Game', 'Training', 'Game', 'Game', 'Game', 'Game', 'Training Game', 'Training Game', 'Unspecified', 'Game', 'Game', 'Game', 'Training Game', 'Game', 'Game', 'Game', 'Training', 'Training', 'Training', 'Training Game', 'Game', 'Training Game', 'Training', 'Training', 'Game', 'Training Game', 'Game', 'Training', 'Game', 'Training', 'Game', 'Training', 'Game', 'Training Game', 'Training', 'Game', 'Training Game', 'Game', 'Game', 'Training Game', 'Unspecified', 'Game', 'Game', 'Training', 'Training', 'Game', 'Game', 'Training Game', 'Game', 'Game', 'Game', 'Training', 'Game', 'Game', 'Game', 'Game', 'Game', 'Game', 'Training Game', 'Game', 'Training Game', 'Game', 'Game', 'Game', 'Training', 'Training', 'Game', 'Game', 'Training Game', 'Game', 'Training', 'Training', 'Training', 'Game', 'Training', 'Game', 'Training Game', 'Game', 'Game', 'Training', 'Game', 'Game', 'Training Game', 'Game', 'Game', 'Training', 'Training', 'Training Game', 'Training', 'Training', 'Game', 'Game', 'Game', 'Game', 'Game', 'Game', 'Game', 'Training Game', 'Game']\n"
     ]
    }
   ],
   "source": [
    "#Use random function to set the weight of our list\n",
    "import random\n",
    "x=random.choices(['Game', 'Training Game', 'Training', 'Unspecified'], [0.554, 0.167, 0.25, 0.029], k=250)\n",
    "print(x)"
   ]
  },
  {
   "cell_type": "code",
   "execution_count": 4,
   "metadata": {},
   "outputs": [
    {
     "name": "stdout",
     "output_type": "stream",
     "text": [
      "Counter({'Game': 138, 'Training': 64, 'Training Game': 41, 'Unspecified': 7})\n"
     ]
    }
   ],
   "source": [
    "#check that the list is more satisfactorily weighted with counter function\n",
    "from collections import Counter  \n",
    "\n",
    "c = Counter(x)\n",
    "print(c)"
   ]
  },
  {
   "cell_type": "code",
   "execution_count": 17,
   "metadata": {},
   "outputs": [
    {
     "data": {
      "image/png": "[encoded data removed]",
      "text/plain": [
       "<matplotlib.figure.Figure at 0x110dae2e8>"
      ]
     },
     "metadata": {},
     "output_type": "display_data"
    }
   ],
   "source": [
    "# Creating a histogram of our injury occasion data:\n",
    "\n",
    "import matplotlib.pyplot as plt\n",
    "%matplotlib inline\n",
    "\n",
    "plt.hist(x) # Plot histogram of our randomly generated hurling injury data (x)\n",
    "plt.ylabel('Number of Injuries') # label y axis \n",
    "plt.xlabel('Event') # label x axis \n",
    "plt.title('Hurling Injury Occasion') # Add title\n",
    "\n",
    "plt.show()"
   ]
  },
  {
   "cell_type": "markdown",
   "metadata": {},
   "source": [
    "<h3>Weather Conditions</h3>\n",
    "<p>The next stop on our journey is to generate a random dataset of the type of weather conditions during which elite hurlers picked up injuries. Once again we will lean on John C Murphy's hurling injury research to help us generate a random dataset that mirrors real-world probabilities.</p>\n",
    "<p>The possibilities are the following weather conditions:</p>\n",
    "<ul><li>Dry 66.6%</li>\n",
    "<li>Wet 20.5%</li> \n",
    "<li>Dry and Windy 7.6%</li> \n",
    "<li>Wet and Windy 3.5%</li> \n",
    "<li>Snowing 1.2%</li> \n",
    "<li>Windy 0.6%</li></ul>"
   ]
  },
  {
   "cell_type": "code",
   "execution_count": 20,
   "metadata": {},
   "outputs": [
    {
     "name": "stdout",
     "output_type": "stream",
     "text": [
      "['Dry', 'Dry', 'Dry and Windy', 'Wet', 'Dry', 'Dry', 'Dry', 'Dry', 'Dry', 'Dry', 'Snowing', 'Dry', 'Dry', 'Wet', 'Dry', 'Dry', 'Dry', 'Dry and Windy', 'Dry', 'Wet', 'Windy', 'Dry', 'Dry', 'Dry', 'Wet', 'Dry', 'Wet', 'Dry', 'Dry', 'Dry', 'Wet and Windy', 'Dry and Windy', 'Dry', 'Dry', 'Dry', 'Dry', 'Wet', 'Dry', 'Wet and Windy', 'Dry', 'Dry and Windy', 'Dry', 'Dry', 'Wet', 'Dry', 'Wet', 'Dry', 'Dry and Windy', 'Wet and Windy', 'Dry', 'Wet', 'Dry', 'Dry', 'Dry', 'Dry and Windy', 'Dry', 'Dry', 'Dry and Windy', 'Dry', 'Dry', 'Wet', 'Dry', 'Wet', 'Dry', 'Dry', 'Dry', 'Dry', 'Dry', 'Dry', 'Dry', 'Dry', 'Dry', 'Dry', 'Dry', 'Dry', 'Dry', 'Dry', 'Dry', 'Wet', 'Dry', 'Wet', 'Dry', 'Dry', 'Dry and Windy', 'Dry', 'Dry', 'Dry', 'Dry', 'Dry', 'Dry', 'Dry', 'Wet', 'Dry', 'Dry', 'Dry', 'Dry', 'Wet', 'Dry', 'Wet', 'Dry', 'Wet and Windy', 'Wet', 'Dry', 'Wet', 'Dry', 'Dry', 'Dry', 'Dry', 'Dry', 'Dry and Windy', 'Windy', 'Dry', 'Dry', 'Dry', 'Dry', 'Dry', 'Dry', 'Wet', 'Wet and Windy', 'Dry', 'Dry', 'Windy', 'Dry', 'Dry', 'Dry', 'Dry', 'Dry', 'Wet', 'Dry', 'Dry', 'Wet', 'Dry', 'Dry', 'Wet', 'Wet and Windy', 'Dry', 'Dry', 'Dry', 'Dry', 'Wet', 'Dry', 'Wet and Windy', 'Dry', 'Dry', 'Dry', 'Wet', 'Dry', 'Dry', 'Dry', 'Dry', 'Dry', 'Dry and Windy', 'Dry', 'Snowing', 'Dry', 'Dry', 'Dry', 'Dry and Windy', 'Wet and Windy', 'Dry', 'Wet', 'Wet and Windy', 'Dry', 'Dry', 'Wet', 'Dry', 'Dry', 'Dry', 'Dry and Windy', 'Dry', 'Dry', 'Dry', 'Dry', 'Dry', 'Dry', 'Dry', 'Dry', 'Dry', 'Wet', 'Dry', 'Dry', 'Dry', 'Dry', 'Dry', 'Dry', 'Dry and Windy', 'Dry', 'Wet', 'Dry', 'Dry and Windy', 'Dry', 'Dry', 'Dry', 'Dry', 'Dry and Windy', 'Dry', 'Dry and Windy', 'Dry', 'Dry', 'Dry and Windy', 'Dry', 'Dry', 'Dry', 'Dry', 'Dry and Windy', 'Wet', 'Dry', 'Dry and Windy', 'Dry and Windy', 'Wet', 'Dry', 'Dry and Windy', 'Dry', 'Dry', 'Dry', 'Dry', 'Dry', 'Wet', 'Dry', 'Dry', 'Dry', 'Dry', 'Dry', 'Wet', 'Dry', 'Dry', 'Dry', 'Dry and Windy', 'Wet', 'Dry', 'Dry', 'Dry and Windy', 'Wet and Windy', 'Dry', 'Wet', 'Dry', 'Dry', 'Dry', 'Wet', 'Wet', 'Dry and Windy', 'Dry', 'Dry and Windy', 'Dry', 'Dry', 'Dry', 'Wet', 'Dry', 'Dry', 'Dry']\n"
     ]
    }
   ],
   "source": [
    "#Once again I will use Random choice function to generate a random weighted list of 250 strings\n",
    "import random\n",
    "x=random.choices(['Dry', 'Wet', 'Dry and Windy', 'Wet and Windy', 'Snowing','Windy'], [0.666, 0.205, 0.076, 0.035, 0.012, 0.006], k=250)\n",
    "print(x)"
   ]
  },
  {
   "cell_type": "code",
   "execution_count": 26,
   "metadata": {},
   "outputs": [
    {
     "name": "stdout",
     "output_type": "stream",
     "text": [
      "Counter({'Dry': 173, 'Wet': 37, 'Dry and Windy': 25, 'Wet and Windy': 10, 'Windy': 3, 'Snowing': 2})\n"
     ]
    }
   ],
   "source": [
    "from collections import Counter  \n",
    "\n",
    "c = Counter(x)\n",
    "print(c)"
   ]
  },
  {
   "cell_type": "code",
   "execution_count": 147,
   "metadata": {},
   "outputs": [
    {
     "data": {
      "image/png": "[encoded data removed]",
      "text/plain": [
       "<matplotlib.figure.Figure at 0x115588978>"
      ]
     },
     "metadata": {},
     "output_type": "display_data"
    }
   ],
   "source": [
    "#Show hurling injury weather type data on pie chart https://matplotlib.org/gallery/pie_and_polar_charts/pie_features.html#sphx-glr-gallery-pie-and-polar-charts-pie-features-py\n",
    "\n",
    "import matplotlib.pyplot as plt\n",
    "%matplotlib inline\n",
    "\n",
    "# Pie chart, where the slices will be ordered and plotted counter-clockwise:\n",
    "labels = ['Dry', 'Wet', 'Dry and Windy', 'Wet and Windy', 'Snowing','Windy']\n",
    "sizes = [0.666, 0.205, 0.076, 0.035, 0.012, 0.006]\n",
    "explode = (0.1, 0.1, 0.1, 0.1, 0.1, 0.1)  # explode Dry because it is most frequent weather condition during which hurling injuries occur\n",
    "\n",
    "fig1, ax1 = plt.subplots()\n",
    "ax1.pie(sizes, explode=explode, labels=labels, autopct='%1.1f%%',\n",
    "        shadow=True, startangle=90)\n",
    "ax1.axis('equal')  # Equal aspect ratio ensures that pie is drawn as a circle.\n",
    "\n",
    "plt.show()"
   ]
  },
  {
   "cell_type": "code",
   "execution_count": null,
   "metadata": {
    "collapsed": true
   },
   "outputs": [],
   "source": []
  }
 ],
 "metadata": {
  "kernelspec": {
   "display_name": "Python 3",
   "language": "python",
   "name": "python3"
  },
  "language_info": {
   "codemirror_mode": {
    "name": "ipython",
    "version": 3
   },
   "file_extension": ".py",
   "mimetype": "text/x-python",
   "name": "python",
   "nbconvert_exporter": "python",
   "pygments_lexer": "ipython3",
   "version": "3.6.3"
  }
 },
 "nbformat": 4,
 "nbformat_minor": 2
}
