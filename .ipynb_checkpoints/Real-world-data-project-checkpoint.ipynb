{
 "cells": [
  {
   "cell_type": "markdown",
   "metadata": {},
   "source": [
    "<img src=\"https://learnonline.gmit.ie/pluginfile.php/1/theme_adaptable/logo/1538655948/Transparent%20new.png\" align=\"left\"/>"
   ]
  },
  {
   "cell_type": "markdown",
   "metadata": {},
   "source": [
    "<h1>Higher Diploma in Science in Computing (Data Analytics) - Programming for Data Analysis</h1>\n",
    "<h2>Real World Data Project - December 2018</h2> \n",
    "<h3>Cóbhan Phillipson</h3>\n",
    "<hr>"
   ]
  },
  {
   "cell_type": "markdown",
   "metadata": {},
   "source": [
    "<h3>Introduction</h3>\n",
    "<p>This project is conducted as part of a project for a Programming for Data Analysis module. This module is part of the Higher Diploma in Science in Computing (Data Analytics) in GMIT. Having focused our analysis so far on existing datasets, this project is something of a departure in that we are required to create a data set by simulating a real-world phenomenon of our own choosing.</p> \n",
    "\n",
    "<p>This project requirements are the following:</p>\n",
    "<ul><li>Choose a real-world phenomenon that can be measured and contains at least one-hundred data points across at least four different variables.</li>\n",
    "<li>Investigate the types of variables involved, their likely distributions, and their relationships with each other.</li>\n",
    "<li>Synthesise/simulate a data set as closely matching their properties as possible.</li>\n",
    "<li>Detail the research and implement the simulation in a Jupyter notebook – the data set itself can simply be displayed in an output cell within the notebook.</li></ul>\n",
    "\n",
    "<p>For my first foray into the world of dataset creation, I have chosen to analyze the incidence of injuries in elite level county hurling. The variables I will examine include the type of injuries sustained, whether these injuries were sustained during matches or training, the injured area, and the age of the players in question. </p>\n",
    "\n",
    "<p>The following variables will be included:</p>\n",
    "<ul><li><strong>Age</strong> (18-38)</li>\n",
    "<li><strong>Occasion</strong> (Game, Training, Training Game, Unspecified)</li>\n",
    "<li><strong>Weather Conditions</strong> (Dry, Wet, Dry and Windy, Wet and Windy, Snowing, Windy)</li>\n",
    "<li><strong>Injured Region</strong> (Head/neck, Shoulder/arm/elbow, Forearm/wrist/hand, Trunk/spine, Hip/groin/thigh,  Knee, Shin/ankle foot)</li></ul>"
   ]
  },
  {
   "cell_type": "markdown",
   "metadata": {
    "collapsed": true
   },
   "source": [
    "<h3>Age</h3>\n",
    "<p>To begin this research, I will analyze the age variable. I will build on data from a 2013 research project by John C Murphy which found the mean age of the intercounty hurler to be 23.3±2.5 years[1]. I will generate 250 subjects for this study using NumPy random package - and weighting the data set in accordance with the average age.</p>"
   ]
  },
  {
   "cell_type": "code",
   "execution_count": 1,
   "metadata": {
    "collapsed": true
   },
   "outputs": [],
   "source": [
    "# Import pandas and numpy \n",
    "\n",
    "import pandas as pd\n",
    "import numpy as np"
   ]
  },
  {
   "cell_type": "code",
   "execution_count": 3,
   "metadata": {},
   "outputs": [
    {
     "name": "stdout",
     "output_type": "stream",
     "text": [
      "[ 25.38459218  21.98590889  21.58183469  25.56392171  23.78767912\n",
      "  25.6135378   20.67084558  25.47028317  24.9384672   24.2004176\n",
      "  20.93001168  24.51072335  24.57111522  23.67058274  24.86813339\n",
      "  19.53958237  19.4549143   22.76931013  20.74326999  24.91337142\n",
      "  25.75200298  25.42510694  20.58858891  28.13529551  25.01038365\n",
      "  24.04618412  25.28700182  20.172739    23.36890829  23.85687248\n",
      "  23.25901154  22.67706246  21.3752681   26.7327836   27.48599578\n",
      "  21.10967349  25.28473803  20.92964328  20.7402606   24.10461476\n",
      "  18.84915946  23.71260387  22.90168784  28.10246791  24.2712012\n",
      "  20.99752272  24.20564056  23.76243376  25.41742321  22.52010635\n",
      "  20.42606149  20.46700689  24.44175379  28.15746686  24.23157672\n",
      "  21.1986244   23.36083559  24.86303385  23.89791314  23.92711168\n",
      "  19.25620436  23.32769963  23.42908076  26.43745275  27.44611812\n",
      "  25.91692301  29.94237046  22.1320484   24.6371219   18.91969823\n",
      "  18.44194914  21.47458846  25.9524605   23.53945107  25.20276142\n",
      "  21.66728892  19.89089217  25.20620705  24.07710492  26.51686588\n",
      "  23.95913267  29.53925004  26.90083002  21.5783239   25.81589943\n",
      "  23.02857767  18.50466907  22.71813127  26.44821729  22.76423115\n",
      "  23.819282    21.27817755  21.50508254  21.13697295  23.31102697\n",
      "  22.33029272  24.15413108  23.49512986  23.36058284  22.05634209\n",
      "  28.67593238  21.41429391  25.03622546  26.38927381  25.67548522\n",
      "  26.16801646  21.65642601  21.41904452  26.53883588  25.27007633\n",
      "  21.32025026  25.25283399  22.74959085  21.32857936  25.00608871\n",
      "  17.24283859  22.36984025  25.27395177  25.07216598  23.94080051\n",
      "  28.26145616  26.497116    21.45812271  21.84521348  23.98650981\n",
      "  23.83085559  29.1632495   24.42091765  23.8822866   22.08195796\n",
      "  22.5203129   25.15136313  28.94717492  24.36512683  25.7643404\n",
      "  23.16066174  23.30969608  23.47587298  26.14777772  22.98425293\n",
      "  26.90717775  22.29282244  20.40525018  21.86096434  25.78489706\n",
      "  25.23273474  23.85177943  27.73101331  25.87861787  20.3050595\n",
      "  26.81847178  23.49610225  17.9836659   26.01208961  24.63369947\n",
      "  22.33419953  22.45890923  22.23058379  25.41229798  23.77023753\n",
      "  30.60226132  23.66614215  20.7850565   23.91106683  24.70784086\n",
      "  23.00475895  24.10771953  20.0952167   25.17838252  25.35902907\n",
      "  25.90511027  24.61944223  22.09287356  21.33431941  23.66855765\n",
      "  22.28308144  21.16001926  21.54320153  24.10080176  21.22028609\n",
      "  23.47763194  23.59425681  23.21731309  22.79848532  26.00423044\n",
      "  21.18194271  22.40499453  24.50852454  22.83644556  25.63799088\n",
      "  20.14954558  23.60087624  24.01397241  27.32931662  22.24251013\n",
      "  23.22463188  27.2021177   24.23674085  24.68209393  19.78881847\n",
      "  23.60383098  21.59536541  27.90414771  18.60203783  24.05333282\n",
      "  21.01025082  25.27968798  21.95200436  23.05883828  22.95837956\n",
      "  24.121013    27.76164506  22.9057433   24.69808331  24.83243765\n",
      "  24.64951568  25.13221416  20.41209704  26.05148167  25.67769774\n",
      "  22.79713128  25.50915309  24.36375101  24.80819411  20.52462706\n",
      "  22.51082078  24.1234671   22.21963776  27.0635249   19.95046213\n",
      "  22.16579516  21.03576036  22.35482101  24.6559161   22.03766059\n",
      "  16.05349429  22.50647015  23.06948811  20.45497333  24.70145055\n",
      "  22.20429016  20.20426195  27.16758149  23.79796455  25.3358204\n",
      "  18.12559062  25.21477863  24.66602128  21.72539449  22.69880215]\n"
     ]
    }
   ],
   "source": [
    "mu, sigma = 23.3, 2.5 #set age and standard deviation\n",
    "s = np.random.normal(mu, sigma, 250)\n",
    "print(s)"
   ]
  },
  {
   "cell_type": "code",
   "execution_count": null,
   "metadata": {
    "collapsed": true
   },
   "outputs": [],
   "source": []
  }
 ],
 "metadata": {
  "kernelspec": {
   "display_name": "Python 3",
   "language": "python",
   "name": "python3"
  },
  "language_info": {
   "codemirror_mode": {
    "name": "ipython",
    "version": 3
   },
   "file_extension": ".py",
   "mimetype": "text/x-python",
   "name": "python",
   "nbconvert_exporter": "python",
   "pygments_lexer": "ipython3",
   "version": "3.6.3"
  }
 },
 "nbformat": 4,
 "nbformat_minor": 2
}
