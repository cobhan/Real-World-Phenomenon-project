{
 "cells": [
  {
   "cell_type": "markdown",
   "metadata": {},
   "source": [
    "<img src=\"https://learnonline.gmit.ie/pluginfile.php/1/theme_adaptable/logo/1538655948/Transparent%20new.png\" align=\"left\"/>"
   ]
  },
  {
   "cell_type": "markdown",
   "metadata": {},
   "source": [
    "<h1>Higher Diploma in Science in Computing (Data Analytics) - Programming for Data Analysis</h1>\n",
    "<h2>Real World Data Project - December 2018</h2> \n",
    "<h3>Cóbhan Phillipson</h3>\n",
    "<hr>"
   ]
  },
  {
   "cell_type": "markdown",
   "metadata": {},
   "source": [
    "<h3>Introduction</h3>\n",
    "<p>This project is conducted as part of a project for a Programming for Data Analysis module. This module is part of the Higher Diploma in Science in Computing (Data Analytics) in GMIT. Having focused our analysis so far on existing datasets, this project is something of a departure in that we are required to create a data set by simulating a real-world phenomenon of our own choosing.</p> \n",
    "\n",
    "<p>This project requirements are the following:</p>\n",
    "<ul><li>Choose a real-world phenomenon that can be measured and contains at least one-hundred data points across at least four different variables.</li>\n",
    "<li>Investigate the types of variables involved, their likely distributions, and their relationships with each other.</li>\n",
    "<li>Synthesise/simulate a data set as closely matching their properties as possible.</li>\n",
    "<li>Detail the research and implement the simulation in a Jupyter notebook – the data set itself can simply be displayed in an output cell within the notebook.</li></ul>\n",
    "\n",
    "<p>For my first foray into the world of dataset creation, I have chosen to analyze the incidence of injuries in elite gaelic football and hurling. The variables I will examine include the type of injuries sustained, whether these injuries were sustained during matches or training, the type of game (hurling or football), and the age of the players in question. </p>\n",
    "\n"
   ]
  },
  {
   "cell_type": "code",
   "execution_count": null,
   "metadata": {
    "collapsed": true
   },
   "outputs": [],
   "source": []
  }
 ],
 "metadata": {
  "kernelspec": {
   "display_name": "Python 3",
   "language": "python",
   "name": "python3"
  },
  "language_info": {
   "codemirror_mode": {
    "name": "ipython",
    "version": 3
   },
   "file_extension": ".py",
   "mimetype": "text/x-python",
   "name": "python",
   "nbconvert_exporter": "python",
   "pygments_lexer": "ipython3",
   "version": "3.6.3"
  }
 },
 "nbformat": 4,
 "nbformat_minor": 2
}
