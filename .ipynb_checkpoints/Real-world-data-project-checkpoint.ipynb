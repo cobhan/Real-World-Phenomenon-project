{
 "cells": [
  {
   "cell_type": "markdown",
   "metadata": {},
   "source": [
    "<img src=\"https://learnonline.gmit.ie/pluginfile.php/1/theme_adaptable/logo/1538655948/Transparent%20new.png\" align=\"left\"/>"
   ]
  },
  {
   "cell_type": "markdown",
   "metadata": {},
   "source": [
    "<h1>Higher Diploma in Science in Computing (Data Analytics) - Programming for Data Analysis</h1>\n",
    "<h2>Real World Data Project - December 2018</h2> \n",
    "<h3>Cóbhan Phillipson</h3>\n",
    "<hr>"
   ]
  },
  {
   "cell_type": "markdown",
   "metadata": {},
   "source": [
    "<h3>Introduction</h3>\n",
    "<p>This project is conducted as part of a project for a Programming for Data Analysis module. This module is part of the Higher Diploma in Science in Computing (Data Analytics) in GMIT. Having focused our analysis so far on existing datasets, this project is something of a departure in that we are required to create a data set by simulating a real-world phenomenon of our own choosing.</p> \n",
    "\n",
    "<p>This project requirements are the following:</p>\n",
    "<ul><li>Choose a real-world phenomenon that can be measured and contains at least one-hundred data points across at least four different variables.</li>\n",
    "<li>Investigate the types of variables involved, their likely distributions, and their relationships with each other.</li>\n",
    "<li>Synthesise/simulate a data set as closely matching their properties as possible.</li>\n",
    "<li>Detail the research and implement the simulation in a Jupyter notebook – the data set itself can simply be displayed in an output cell within the notebook.</li></ul>\n",
    "\n",
    "<p>For my first foray into the world of dataset creation, I have chosen to analyze the incidence of injuries in elite level county hurling. The variables I will examine include the type of injuries sustained, whether these injuries were sustained during matches or training, the injured area, and the age of the players in question. </p>\n",
    "\n",
    "<p>The following variables will be included:</p>\n",
    "<ul><li><strong>Age</strong> (18-38)</li>\n",
    "<li><strong>Occasion</strong> (Game, Training, Training Game, Unspecified)</li>\n",
    "<li><strong>Weather Conditions</strong> (Dry, Wet, Dry and Windy, Wet and Windy, Snowing, Windy)</li>\n",
    "<li><strong>Injured Region</strong> (Head/neck, Shoulder/arm/elbow, Forearm/wrist/hand, Trunk/spine, Hip/groin/thigh,  Knee, Shin/ankle foot)</li></ul>"
   ]
  },
  {
   "cell_type": "markdown",
   "metadata": {
    "collapsed": true
   },
   "source": [
    "<h3>Age</h3>\n",
    "<p>To begin this research, I will analyze the age variable. I will build on data from a 2013 research project by John C Murphy which found the mean age of the intercounty hurler to be 23.3±2.5 years[1]. I will generate 250 subjects for this study using NumPy random package - and weighting the data set in accordance with the average age.</p>"
   ]
  },
  {
   "cell_type": "code",
   "execution_count": 15,
   "metadata": {
    "collapsed": true
   },
   "outputs": [],
   "source": [
    "# Import libraries\n",
    "import numpy as np\n",
    "import numpy.random as npr\n",
    "import pandas as pd\n",
    "import matplotlib.pyplot as plt\n",
    "import seaborn as sns\n",
    "%matplotlib inline"
   ]
  },
  {
   "cell_type": "code",
   "execution_count": 16,
   "metadata": {},
   "outputs": [
    {
     "name": "stdout",
     "output_type": "stream",
     "text": [
      "[ 27.94834201  25.94031168  24.16081693  23.45431607  24.86788451\n",
      "  22.39718822  21.42908475  21.11681825  22.30519761  23.27533653\n",
      "  24.44818294  26.75205145  22.20012066  21.75832753  24.74021819\n",
      "  23.27050922  20.9575417   23.85458148  22.03849388  19.6438712\n",
      "  23.97846577  22.84981616  25.05708046  27.41090739  24.17652975\n",
      "  24.52154252  22.12503966  19.04836082  21.14733051  21.21505494\n",
      "  21.81388464  18.21264347  21.04487621  23.27747905  25.24114428\n",
      "  26.15145122  27.46000892  20.18197409  24.39752601  24.91902046\n",
      "  20.28437018  21.45325789  17.71865885  22.67794959  23.02485974\n",
      "  23.93034409  20.61559179  21.59463997  20.60479068  23.4336718\n",
      "  29.54375207  24.15513086  27.01015348  26.39740359  22.00712772\n",
      "  24.84393667  20.32152987  21.58971158  25.80359279  22.58339255\n",
      "  24.40502812  17.88839677  22.55412587  22.74888734  27.02475964\n",
      "  27.91232721  21.53845261  24.07646129  20.11464629  22.64195772\n",
      "  24.0958722   25.4260762   25.68081105  25.38894355  26.98460287\n",
      "  22.4839116   20.66865726  19.97971533  20.44069845  25.90584489\n",
      "  21.50301075  21.31928463  24.1733964   25.46880867  22.69122907\n",
      "  23.90289667  24.08873559  15.98535293  24.20056931  26.81005192\n",
      "  21.63758721  24.63386793  20.73143013  24.80771289  19.03318902\n",
      "  30.02706388  26.874118    21.09853685  23.09277134  26.99486938\n",
      "  23.17387151  20.11079932  20.8768918   23.30723614  20.78378522\n",
      "  24.99331359  24.30754496  21.94958616  24.47921408  26.80147731\n",
      "  20.81207913  25.90788473  22.19277949  21.83943398  25.09648657\n",
      "  22.72571907  22.50681197  23.93670491  24.4378041   27.0160736\n",
      "  22.51471404  21.93320102  21.32846425  23.02476927  25.86186163\n",
      "  26.72924764  22.20638404  19.91219912  20.68342784  21.20287019\n",
      "  18.54754867  24.15095339  24.10859434  25.85705602  23.48461794\n",
      "  23.16076024  22.93914245  26.41381777  25.41124232  26.77926614\n",
      "  17.68230117  26.99372455  25.41809532  26.13934911  28.82088052\n",
      "  24.50864652  22.44462075  21.95761537  21.22527255  20.3992658\n",
      "  24.55526903  20.27091673  22.24216978  22.36684799  21.11940329\n",
      "  25.88465375  24.68971156  22.17123382  19.55955472  27.50557616\n",
      "  21.94099494  22.17011083  22.86591723  20.49679791  20.41395553\n",
      "  23.32057912  17.28772688  22.10624587  18.27955791  27.45495101\n",
      "  21.87259691  27.87030904  17.11545767  23.83807133  22.35011278\n",
      "  20.92406701  20.44333765  19.88281861  24.41985127  24.35901738\n",
      "  22.53673043  25.21478203  23.28370424  19.94844745  28.16910878\n",
      "  24.23844398  21.66942691  23.99775609  20.86676548  21.72224672\n",
      "  24.44276634  21.66385972  21.68463455  24.68564451  24.66410506\n",
      "  22.35655287  24.41268766  26.32610114  26.35106402  21.32349434\n",
      "  22.87127111  24.49167375  23.4252248   27.777883    28.71615384\n",
      "  25.4084729   19.65756036  22.62474671  23.73915121  26.20035885\n",
      "  23.26158078  24.23048245  24.90862598  23.56547328  25.74428065\n",
      "  23.91666442  21.98656832  26.67738514  24.11133285  26.07019814\n",
      "  17.36851364  21.84501442  23.23241622  23.08358259  26.11484968\n",
      "  21.4889189   27.02268483  20.94306343  25.197125    22.03027262\n",
      "  26.36775462  24.05387933  19.57038976  23.96034793  19.83620677\n",
      "  23.14862466  23.38179162  22.11360009  21.55228093  22.32816414\n",
      "  18.4072622   24.19587798  21.70827086  22.49511551  23.16822426\n",
      "  22.59059691  26.3659146   26.72025254  21.72666409  21.47977079]\n"
     ]
    }
   ],
   "source": [
    "mu, sigma = 23.3, 2.5 #set age and standard deviation\n",
    "age = np.random.normal(mu, sigma, 250) #set number of subjects as 250\n",
    "print(age)"
   ]
  },
  {
   "cell_type": "markdown",
   "metadata": {},
   "source": [
    "<p>Using matplotlib, I have plotted our random data set of hurlers and their age. </p>"
   ]
  },
  {
   "cell_type": "code",
   "execution_count": 17,
   "metadata": {},
   "outputs": [
    {
     "ename": "NameError",
     "evalue": "name 'ax' is not defined",
     "output_type": "error",
     "traceback": [
      "\u001b[0;31m---------------------------------------------------------------------------\u001b[0m",
      "\u001b[0;31mNameError\u001b[0m                                 Traceback (most recent call last)",
      "\u001b[0;32m<ipython-input-17-ca115aedcb54>\u001b[0m in \u001b[0;36m<module>\u001b[0;34m()\u001b[0m\n\u001b[1;32m      5\u001b[0m \u001b[0mplt\u001b[0m\u001b[0;34m.\u001b[0m\u001b[0mplot\u001b[0m\u001b[0;34m(\u001b[0m\u001b[0mage\u001b[0m\u001b[0;34m,\u001b[0m \u001b[0;34m'b.'\u001b[0m\u001b[0;34m)\u001b[0m \u001b[0;31m#using b. to remove unnecessary line and replace each data point with a blue dot\u001b[0m\u001b[0;34m\u001b[0m\u001b[0m\n\u001b[1;32m      6\u001b[0m \u001b[0mplt\u001b[0m\u001b[0;34m.\u001b[0m\u001b[0mylabel\u001b[0m\u001b[0;34m(\u001b[0m\u001b[0;34m'age'\u001b[0m\u001b[0;34m)\u001b[0m\u001b[0;34m\u001b[0m\u001b[0m\n\u001b[0;32m----> 7\u001b[0;31m \u001b[0max\u001b[0m\u001b[0;34m.\u001b[0m\u001b[0mtick_params\u001b[0m\u001b[0;34m(\u001b[0m\u001b[0mlabelbottom\u001b[0m\u001b[0;34m=\u001b[0m\u001b[0;32mFalse\u001b[0m\u001b[0;34m)\u001b[0m \u001b[0;31m#Hide label from the x axis as it is not necessary in this plot\u001b[0m\u001b[0;34m\u001b[0m\u001b[0m\n\u001b[0m\u001b[1;32m      8\u001b[0m \u001b[0mplt\u001b[0m\u001b[0;34m.\u001b[0m\u001b[0mxticks\u001b[0m\u001b[0;34m(\u001b[0m\u001b[0;34m[\u001b[0m\u001b[0;34m]\u001b[0m\u001b[0;34m)\u001b[0m \u001b[0;31m#Hide x axis\u001b[0m\u001b[0;34m\u001b[0m\u001b[0m\n\u001b[1;32m      9\u001b[0m \u001b[0mplt\u001b[0m\u001b[0;34m.\u001b[0m\u001b[0mshow\u001b[0m\u001b[0;34m(\u001b[0m\u001b[0;34m)\u001b[0m\u001b[0;34m\u001b[0m\u001b[0m\n",
      "\u001b[0;31mNameError\u001b[0m: name 'ax' is not defined"
     ]
    },
    {
     "data": {
      "image/png": "[encoded data removed]",
      "text/plain": [
       "<matplotlib.figure.Figure at 0x1a1b6589b0>"
      ]
     },
     "metadata": {},
     "output_type": "display_data"
    }
   ],
   "source": [
    "import matplotlib.pyplot as plt\n",
    "import numpy as np\n",
    "mu, sigma = 23.3, 2.5 #set age and standard deviation\n",
    "x = np.random.normal(mu, sigma, 250) #set number of subjects as 250 \n",
    "plt.plot(age, 'b.') #using b. to remove unnecessary line and replace each data point with a blue dot\n",
    "plt.ylabel('age')\n",
    "ax.tick_params(labelbottom=False) #Hide label from the x axis as it is not necessary in this plot \n",
    "plt.xticks([]) #Hide x axis \n",
    "plt.show() "
   ]
  },
  {
   "cell_type": "markdown",
   "metadata": {},
   "source": [
    "The above plot just helps us to visualize the ages of intercounty hurlers today. As we can see, there is a cluster of dots around 22-24. "
   ]
  },
  {
   "cell_type": "markdown",
   "metadata": {
    "collapsed": true
   },
   "source": [
    "<h3>Occasion</h3>\n",
    "<p>The second variable we will examine is the occasion or event that the injury occured in. Within this variable are 4 possibilities - Game, Training, Training Game, and Unspecified. Once again, I will lean on John C Murphy's research to help generate this random dataset. Murphy's study showed the following break down of injury occasion:</p>\n",
    "<ul><li>Game 55.4%</li>\n",
    "<li>Training Game 16.7%</li>\n",
    "<li>Training 25%</li>\n",
    "<li>Unspecified 2.9%</li></ul>"
   ]
  },
  {
   "cell_type": "code",
   "execution_count": 18,
   "metadata": {},
   "outputs": [
    {
     "name": "stdout",
     "output_type": "stream",
     "text": [
      "['Training Game', 'Game', 'Unspecified', 'Game', 'Training', 'Training', 'Unspecified', 'Training Game', 'Game', 'Training Game', 'Training', 'Game', 'Training', 'Game', 'Training Game', 'Game', 'Training', 'Training Game', 'Unspecified', 'Unspecified', 'Training', 'Unspecified', 'Game', 'Game', 'Training Game', 'Game', 'Game', 'Unspecified', 'Training', 'Unspecified', 'Training', 'Training', 'Unspecified', 'Unspecified', 'Unspecified', 'Unspecified', 'Training', 'Training Game', 'Unspecified', 'Game', 'Unspecified', 'Training Game', 'Training', 'Training Game', 'Game', 'Unspecified', 'Game', 'Game', 'Training', 'Training Game', 'Training Game', 'Training', 'Training', 'Unspecified', 'Training Game', 'Game', 'Training', 'Game', 'Game', 'Unspecified', 'Training', 'Training', 'Game', 'Game', 'Game', 'Training', 'Unspecified', 'Training Game', 'Training', 'Game', 'Unspecified', 'Training', 'Training Game', 'Training', 'Training Game', 'Training Game', 'Training Game', 'Training', 'Game', 'Game', 'Unspecified', 'Training', 'Training Game', 'Game', 'Unspecified', 'Game', 'Training', 'Training', 'Training Game', 'Training Game', 'Unspecified', 'Training Game', 'Training', 'Game', 'Training Game', 'Training', 'Game', 'Training Game', 'Training', 'Unspecified', 'Training', 'Game', 'Unspecified', 'Training', 'Training Game', 'Game', 'Training Game', 'Unspecified', 'Training Game', 'Training', 'Training Game', 'Unspecified', 'Game', 'Game', 'Training Game', 'Game', 'Training', 'Training', 'Game', 'Game', 'Unspecified', 'Unspecified', 'Game', 'Training Game', 'Game', 'Training', 'Unspecified', 'Unspecified', 'Game', 'Training Game', 'Unspecified', 'Training', 'Training Game', 'Training', 'Game', 'Game', 'Unspecified', 'Game', 'Training', 'Unspecified', 'Game', 'Game', 'Training Game', 'Game', 'Training Game', 'Training Game', 'Unspecified', 'Game', 'Training Game', 'Unspecified', 'Game', 'Unspecified', 'Training', 'Training', 'Training', 'Training Game', 'Game', 'Training', 'Training Game', 'Training Game', 'Game', 'Training Game', 'Game', 'Training', 'Game', 'Training', 'Game', 'Training Game', 'Training', 'Game', 'Training', 'Training', 'Game', 'Unspecified', 'Training', 'Unspecified', 'Training', 'Game', 'Training', 'Training', 'Training Game', 'Training', 'Game', 'Training Game', 'Training Game', 'Game', 'Training Game', 'Unspecified', 'Game', 'Unspecified', 'Game', 'Game', 'Training Game', 'Game', 'Training Game', 'Unspecified', 'Training', 'Training', 'Game', 'Game', 'Unspecified', 'Game', 'Training', 'Unspecified', 'Training', 'Game', 'Unspecified', 'Training', 'Unspecified', 'Training', 'Game', 'Unspecified', 'Unspecified', 'Training Game', 'Game', 'Unspecified', 'Training Game', 'Training', 'Game', 'Training', 'Game', 'Training Game', 'Game', 'Training', 'Game', 'Training Game', 'Game', 'Unspecified', 'Unspecified', 'Training', 'Training', 'Game', 'Unspecified', 'Game', 'Unspecified', 'Unspecified', 'Unspecified', 'Unspecified', 'Training', 'Training', 'Game', 'Training', 'Game', 'Training Game', 'Training Game', 'Training', 'Training Game', 'Game', 'Unspecified', 'Training']\n"
     ]
    }
   ],
   "source": [
    "import numpy as np\n",
    "possible_occasion = ['Game', 'Training Game', 'Training', 'Unspecified'] #List of allowed strings\n",
    "my_names = [np.random.choice(possible_occasion) for i in range(250)] #Use Numpy Random function to generate an array of 250 allowed names \n",
    "print(my_names) #Thanks very much Patrick Moore https://learnonline.gmit.ie/mod/forum/discuss.php?d=7105"
   ]
  },
  {
   "cell_type": "code",
   "execution_count": 19,
   "metadata": {},
   "outputs": [
    {
     "data": {
      "text/plain": [
       "Counter({'Game': 75, 'Training': 67, 'Training Game': 53, 'Unspecified': 55})"
      ]
     },
     "execution_count": 19,
     "metadata": {},
     "output_type": "execute_result"
    }
   ],
   "source": [
    "#Using Counter tool we can identify a small problem with our output. The array is not weighted how we want it to be.\n",
    "from collections import Counter  \n",
    "c = Counter(my_names)\n",
    "c "
   ]
  },
  {
   "cell_type": "code",
   "execution_count": 11,
   "metadata": {},
   "outputs": [
    {
     "name": "stdout",
     "output_type": "stream",
     "text": [
      "['Game', 'Training', 'Training', 'Game', 'Training Game', 'Training', 'Training Game', 'Training', 'Game', 'Game', 'Training', 'Training Game', 'Game', 'Game', 'Game', 'Training Game', 'Game', 'Game', 'Training', 'Game', 'Game', 'Training Game', 'Training', 'Game', 'Game', 'Training', 'Unspecified', 'Unspecified', 'Unspecified', 'Training', 'Game', 'Game', 'Training', 'Game', 'Game', 'Training', 'Game', 'Game', 'Training', 'Training', 'Game', 'Training Game', 'Game', 'Game', 'Training Game', 'Game', 'Training', 'Game', 'Training Game', 'Training Game', 'Game', 'Game', 'Training Game', 'Game', 'Game', 'Game', 'Training', 'Training', 'Unspecified', 'Game', 'Unspecified', 'Training Game', 'Training Game', 'Training', 'Game', 'Training', 'Training', 'Game', 'Training', 'Unspecified', 'Game', 'Game', 'Unspecified', 'Game', 'Game', 'Training', 'Training', 'Training', 'Game', 'Game', 'Game', 'Game', 'Game', 'Training', 'Training Game', 'Training', 'Training', 'Game', 'Training', 'Game', 'Training', 'Game', 'Training', 'Game', 'Game', 'Training', 'Unspecified', 'Game', 'Game', 'Training Game', 'Game', 'Game', 'Game', 'Game', 'Training', 'Game', 'Game', 'Training', 'Game', 'Training', 'Game', 'Game', 'Game', 'Game', 'Training', 'Game', 'Training Game', 'Training Game', 'Game', 'Training', 'Training', 'Training Game', 'Unspecified', 'Training Game', 'Game', 'Game', 'Training Game', 'Game', 'Game', 'Game', 'Training Game', 'Game', 'Training', 'Unspecified', 'Training', 'Unspecified', 'Game', 'Game', 'Game', 'Game', 'Game', 'Training', 'Game', 'Training', 'Game', 'Training', 'Training', 'Game', 'Game', 'Game', 'Training Game', 'Game', 'Game', 'Game', 'Game', 'Training Game', 'Game', 'Game', 'Game', 'Game', 'Training', 'Game', 'Game', 'Game', 'Training', 'Game', 'Game', 'Game', 'Game', 'Training', 'Training Game', 'Game', 'Training', 'Game', 'Training', 'Training', 'Game', 'Training', 'Game', 'Game', 'Training Game', 'Game', 'Training', 'Game', 'Game', 'Training', 'Training Game', 'Game', 'Training', 'Training', 'Training', 'Training Game', 'Training Game', 'Game', 'Game', 'Training', 'Game', 'Unspecified', 'Game', 'Game', 'Game', 'Training Game', 'Game', 'Training Game', 'Game', 'Game', 'Game', 'Training', 'Training', 'Training', 'Training', 'Training', 'Game', 'Training', 'Training', 'Game', 'Game', 'Game', 'Training', 'Training', 'Training', 'Game', 'Game', 'Training', 'Game', 'Training', 'Game', 'Game', 'Training', 'Game', 'Game', 'Training Game', 'Game', 'Game', 'Game', 'Game', 'Training Game', 'Game', 'Game', 'Game', 'Training Game', 'Game', 'Game', 'Training Game', 'Training Game', 'Game', 'Game', 'Game', 'Game', 'Game']\n"
     ]
    }
   ],
   "source": [
    "#Use random function to set the weight of our list\n",
    "import random\n",
    "occasion=random.choices(['Game', 'Training Game', 'Training', 'Unspecified'], [0.554, 0.167, 0.25, 0.029], k=250)\n",
    "print(occasion)"
   ]
  },
  {
   "cell_type": "code",
   "execution_count": 20,
   "metadata": {},
   "outputs": [
    {
     "name": "stdout",
     "output_type": "stream",
     "text": [
      "Counter({'Game': 136, 'Training': 68, 'Training Game': 34, 'Unspecified': 12})\n"
     ]
    }
   ],
   "source": [
    "#check that the list is more satisfactorily weighted with counter function\n",
    "from collections import Counter  \n",
    "\n",
    "c = Counter(occasion)\n",
    "print(c)"
   ]
  },
  {
   "cell_type": "code",
   "execution_count": 21,
   "metadata": {},
   "outputs": [
    {
     "data": {
      "image/png": "[encoded data removed]",
      "text/plain": [
       "<matplotlib.figure.Figure at 0x1a1b658208>"
      ]
     },
     "metadata": {},
     "output_type": "display_data"
    }
   ],
   "source": [
    "# Creating a histogram of our injury occasion data:\n",
    "\n",
    "import matplotlib.pyplot as plt\n",
    "%matplotlib inline\n",
    "\n",
    "plt.hist(occasion) # Plot histogram of our randomly generated hurling injury data (x)\n",
    "plt.ylabel('Number of Injuries') # label y axis \n",
    "plt.xlabel('Event') # label x axis \n",
    "plt.title('Hurling Injury Occasion') # Add title\n",
    "\n",
    "plt.show()"
   ]
  },
  {
   "cell_type": "markdown",
   "metadata": {},
   "source": [
    "<h3>Weather Conditions</h3>\n",
    "<p>The next stop on our journey is to generate a random dataset of the type of weather conditions during which elite hurlers picked up injuries. Once again we will lean on John C Murphy's hurling injury research to help us generate a random dataset that mirrors real-world probabilities.</p>\n",
    "<p>The possibilities are the following weather conditions:</p>\n",
    "<ul><li>Dry 66.6%</li>\n",
    "<li>Wet 20.5%</li> \n",
    "<li>Dry and Windy 7.6%</li> \n",
    "<li>Wet and Windy 3.5%</li> \n",
    "<li>Snowing 1.2%</li> \n",
    "<li>Windy 0.6%</li></ul>"
   ]
  },
  {
   "cell_type": "code",
   "execution_count": 22,
   "metadata": {},
   "outputs": [
    {
     "name": "stdout",
     "output_type": "stream",
     "text": [
      "['Wet', 'Dry', 'Dry', 'Dry', 'Dry', 'Wet', 'Dry', 'Dry', 'Dry', 'Dry', 'Wet', 'Dry', 'Dry', 'Dry', 'Dry', 'Wet', 'Dry', 'Dry', 'Dry', 'Wet and Windy', 'Dry and Windy', 'Dry', 'Dry', 'Dry', 'Dry', 'Dry', 'Dry', 'Dry', 'Dry', 'Dry', 'Dry', 'Dry', 'Dry', 'Dry', 'Dry', 'Wet', 'Snowing', 'Wet', 'Dry', 'Dry', 'Wet', 'Dry', 'Dry and Windy', 'Dry', 'Dry', 'Dry', 'Dry', 'Dry', 'Dry', 'Dry', 'Dry', 'Dry and Windy', 'Wet', 'Dry', 'Dry', 'Dry', 'Dry', 'Wet', 'Dry', 'Dry', 'Dry', 'Dry', 'Wet', 'Dry', 'Dry', 'Wet', 'Dry', 'Dry', 'Dry', 'Dry', 'Dry', 'Dry', 'Dry', 'Wet', 'Dry', 'Wet', 'Dry', 'Dry', 'Dry', 'Dry', 'Dry', 'Dry', 'Dry', 'Dry', 'Dry', 'Dry', 'Dry', 'Dry', 'Dry', 'Dry', 'Wet', 'Dry', 'Dry', 'Wet', 'Dry', 'Wet and Windy', 'Dry and Windy', 'Dry', 'Dry', 'Dry', 'Dry', 'Wet', 'Wet', 'Dry', 'Dry', 'Wet', 'Dry', 'Wet', 'Dry', 'Wet and Windy', 'Dry', 'Dry', 'Dry', 'Dry', 'Wet', 'Dry', 'Wet', 'Dry', 'Wet and Windy', 'Dry', 'Dry', 'Dry', 'Dry', 'Dry', 'Wet', 'Dry', 'Dry', 'Dry', 'Dry', 'Wet', 'Dry', 'Dry', 'Dry', 'Dry', 'Dry', 'Dry', 'Dry', 'Dry', 'Dry', 'Dry and Windy', 'Dry', 'Dry and Windy', 'Wet', 'Wet', 'Wet', 'Dry and Windy', 'Dry', 'Dry', 'Dry', 'Dry and Windy', 'Dry', 'Wet', 'Wet', 'Wet', 'Wet', 'Dry', 'Dry', 'Wet', 'Dry', 'Wet', 'Wet', 'Wet', 'Dry', 'Dry', 'Dry', 'Dry', 'Dry', 'Dry', 'Dry', 'Dry and Windy', 'Dry', 'Wet', 'Dry', 'Wet', 'Wet and Windy', 'Dry', 'Dry', 'Wet and Windy', 'Dry and Windy', 'Dry', 'Dry', 'Wet', 'Dry', 'Dry', 'Dry and Windy', 'Dry', 'Dry', 'Dry', 'Dry', 'Dry', 'Dry', 'Dry', 'Wet', 'Wet', 'Dry', 'Wet', 'Wet and Windy', 'Wet', 'Dry', 'Dry', 'Dry', 'Dry', 'Wet', 'Dry', 'Dry', 'Dry and Windy', 'Wet', 'Dry', 'Dry', 'Dry', 'Wet and Windy', 'Wet and Windy', 'Dry', 'Dry', 'Dry', 'Wet', 'Dry and Windy', 'Dry', 'Dry', 'Dry and Windy', 'Wet', 'Dry', 'Wet', 'Dry', 'Dry', 'Dry', 'Wet', 'Snowing', 'Wet', 'Dry', 'Dry', 'Dry', 'Dry', 'Wet', 'Dry', 'Wet', 'Dry', 'Dry', 'Wet', 'Dry', 'Dry', 'Dry', 'Dry', 'Wet', 'Dry', 'Wet', 'Dry and Windy', 'Dry', 'Dry', 'Wet']\n"
     ]
    }
   ],
   "source": [
    "#Once again I will use Random choice function to generate a random weighted list of 250 strings\n",
    "import random\n",
    "weather=random.choices(['Dry', 'Wet', 'Dry and Windy', 'Wet and Windy', 'Snowing','Windy'], [0.666, 0.205, 0.076, 0.035, 0.012, 0.006], k=250)\n",
    "print(weather)"
   ]
  },
  {
   "cell_type": "code",
   "execution_count": 23,
   "metadata": {},
   "outputs": [
    {
     "name": "stdout",
     "output_type": "stream",
     "text": [
      "Counter({'Dry': 170, 'Wet': 54, 'Dry and Windy': 15, 'Wet and Windy': 9, 'Snowing': 2})\n"
     ]
    }
   ],
   "source": [
    "from collections import Counter  \n",
    "\n",
    "c = Counter(weather)\n",
    "print(c)"
   ]
  },
  {
   "cell_type": "code",
   "execution_count": 147,
   "metadata": {},
   "outputs": [
    {
     "data": {
      "image/png": "[encoded data removed]",
      "text/plain": [
       "<matplotlib.figure.Figure at 0x115588978>"
      ]
     },
     "metadata": {},
     "output_type": "display_data"
    }
   ],
   "source": [
    "#Show hurling injury weather type data on pie chart https://matplotlib.org/gallery/pie_and_polar_charts/pie_features.html#sphx-glr-gallery-pie-and-polar-charts-pie-features-py\n",
    "\n",
    "import matplotlib.pyplot as plt\n",
    "%matplotlib inline\n",
    "\n",
    "# Pie chart, where the slices will be ordered and plotted counter-clockwise:\n",
    "labels = ['Dry', 'Wet', 'Dry and Windy', 'Wet and Windy', 'Snowing','Windy']\n",
    "sizes = [0.666, 0.205, 0.076, 0.035, 0.012, 0.006]\n",
    "explode = (0.1, 0.1, 0.1, 0.1, 0.1, 0.1)  # explode Dry because it is most frequent weather condition during which hurling injuries occur\n",
    "\n",
    "fig1, ax1 = plt.subplots()\n",
    "ax1.pie(sizes, explode=explode, labels=labels, autopct='%1.1f%%',\n",
    "        shadow=True, startangle=90)\n",
    "ax1.axis('equal')  # Equal aspect ratio ensures that pie is drawn as a circle.\n",
    "\n",
    "plt.show()"
   ]
  },
  {
   "cell_type": "markdown",
   "metadata": {
    "collapsed": true
   },
   "source": [
    "<h3>Injured Region</h3>\n",
    "<p>The last variable I will examine is the injured region. The possibilities and the real-world probability of their occurance in this variable are:</p>\n",
    "<ul><li>Head/neck 5.4%</li> \n",
    "<li>Shoulder/arm/elbow 2.9%</li>\n",
    "<li>Forearm/wrist/hand 12.2%</li>\n",
    "<li>Trunk/spine 9.3%</li>\n",
    "<li>Hip/groin/thigh 38.7%</li>\n",
    "<li>Knee 7.4%</li>\n",
    "<li>Shin/ankle/foot 24%</li></ul>\n"
   ]
  },
  {
   "cell_type": "code",
   "execution_count": 24,
   "metadata": {},
   "outputs": [
    {
     "name": "stdout",
     "output_type": "stream",
     "text": [
      "['Hip/groin/thigh', 'Trunk/spine', 'Hip/groin/thigh', 'Hip/groin/thigh', 'Head/neck ', 'Hip/groin/thigh', 'Forearm/wrist/hand', 'Hip/groin/thigh', 'Hip/groin/thigh', 'Hip/groin/thigh', 'Shin/ankle/foot', 'Forearm/wrist/hand', 'Hip/groin/thigh', 'Hip/groin/thigh', 'Trunk/spine', 'Hip/groin/thigh', 'Hip/groin/thigh', 'Hip/groin/thigh', 'Forearm/wrist/hand', 'Shin/ankle/foot', 'Knee', 'Head/neck ', 'Knee', 'Forearm/wrist/hand', 'Hip/groin/thigh', 'Trunk/spine', 'Hip/groin/thigh', 'Hip/groin/thigh', 'Head/neck ', 'Shin/ankle/foot', 'Trunk/spine', 'Hip/groin/thigh', 'Trunk/spine', 'Knee', 'Hip/groin/thigh', 'Shin/ankle/foot', 'Hip/groin/thigh', 'Hip/groin/thigh', 'Forearm/wrist/hand', 'Hip/groin/thigh', 'Hip/groin/thigh', 'Trunk/spine', 'Trunk/spine', 'Shoulder/arm/elbow', 'Hip/groin/thigh', 'Trunk/spine', 'Hip/groin/thigh', 'Shin/ankle/foot', 'Knee', 'Forearm/wrist/hand', 'Hip/groin/thigh', 'Head/neck ', 'Shin/ankle/foot', 'Knee', 'Hip/groin/thigh', 'Hip/groin/thigh', 'Knee', 'Forearm/wrist/hand', 'Shin/ankle/foot', 'Forearm/wrist/hand', 'Shin/ankle/foot', 'Forearm/wrist/hand', 'Head/neck ', 'Hip/groin/thigh', 'Trunk/spine', 'Knee', 'Forearm/wrist/hand', 'Head/neck ', 'Knee', 'Trunk/spine', 'Head/neck ', 'Forearm/wrist/hand', 'Knee', 'Knee', 'Shin/ankle/foot', 'Shin/ankle/foot', 'Knee', 'Trunk/spine', 'Hip/groin/thigh', 'Hip/groin/thigh', 'Hip/groin/thigh', 'Hip/groin/thigh', 'Shin/ankle/foot', 'Hip/groin/thigh', 'Hip/groin/thigh', 'Hip/groin/thigh', 'Hip/groin/thigh', 'Shin/ankle/foot', 'Hip/groin/thigh', 'Hip/groin/thigh', 'Shin/ankle/foot', 'Hip/groin/thigh', 'Forearm/wrist/hand', 'Trunk/spine', 'Hip/groin/thigh', 'Hip/groin/thigh', 'Shin/ankle/foot', 'Hip/groin/thigh', 'Shin/ankle/foot', 'Shoulder/arm/elbow', 'Head/neck ', 'Hip/groin/thigh', 'Forearm/wrist/hand', 'Hip/groin/thigh', 'Forearm/wrist/hand', 'Hip/groin/thigh', 'Head/neck ', 'Forearm/wrist/hand', 'Shin/ankle/foot', 'Hip/groin/thigh', 'Hip/groin/thigh', 'Hip/groin/thigh', 'Shin/ankle/foot', 'Trunk/spine', 'Forearm/wrist/hand', 'Hip/groin/thigh', 'Hip/groin/thigh', 'Shoulder/arm/elbow', 'Hip/groin/thigh', 'Hip/groin/thigh', 'Hip/groin/thigh', 'Knee', 'Trunk/spine', 'Hip/groin/thigh', 'Shin/ankle/foot', 'Hip/groin/thigh', 'Forearm/wrist/hand', 'Forearm/wrist/hand', 'Trunk/spine', 'Forearm/wrist/hand', 'Shin/ankle/foot', 'Hip/groin/thigh', 'Hip/groin/thigh', 'Forearm/wrist/hand', 'Hip/groin/thigh', 'Hip/groin/thigh', 'Shin/ankle/foot', 'Hip/groin/thigh', 'Hip/groin/thigh', 'Hip/groin/thigh', 'Shin/ankle/foot', 'Hip/groin/thigh', 'Shin/ankle/foot', 'Shin/ankle/foot', 'Head/neck ', 'Knee', 'Hip/groin/thigh', 'Hip/groin/thigh', 'Shin/ankle/foot', 'Head/neck ', 'Hip/groin/thigh', 'Hip/groin/thigh', 'Shin/ankle/foot', 'Hip/groin/thigh', 'Trunk/spine', 'Hip/groin/thigh', 'Hip/groin/thigh', 'Head/neck ', 'Forearm/wrist/hand', 'Hip/groin/thigh', 'Hip/groin/thigh', 'Hip/groin/thigh', 'Hip/groin/thigh', 'Hip/groin/thigh', 'Shin/ankle/foot', 'Hip/groin/thigh', 'Hip/groin/thigh', 'Trunk/spine', 'Hip/groin/thigh', 'Hip/groin/thigh', 'Trunk/spine', 'Trunk/spine', 'Shin/ankle/foot', 'Hip/groin/thigh', 'Knee', 'Head/neck ', 'Shin/ankle/foot', 'Forearm/wrist/hand', 'Hip/groin/thigh', 'Forearm/wrist/hand', 'Forearm/wrist/hand', 'Knee', 'Trunk/spine', 'Hip/groin/thigh', 'Hip/groin/thigh', 'Knee', 'Shin/ankle/foot', 'Hip/groin/thigh', 'Hip/groin/thigh', 'Knee', 'Knee', 'Shin/ankle/foot', 'Shin/ankle/foot', 'Forearm/wrist/hand', 'Shin/ankle/foot', 'Head/neck ', 'Trunk/spine', 'Shin/ankle/foot', 'Hip/groin/thigh', 'Hip/groin/thigh', 'Forearm/wrist/hand', 'Hip/groin/thigh', 'Hip/groin/thigh', 'Hip/groin/thigh', 'Shin/ankle/foot', 'Knee', 'Hip/groin/thigh', 'Hip/groin/thigh', 'Shin/ankle/foot', 'Trunk/spine', 'Hip/groin/thigh', 'Hip/groin/thigh', 'Shin/ankle/foot', 'Hip/groin/thigh', 'Shin/ankle/foot', 'Shin/ankle/foot', 'Shin/ankle/foot', 'Hip/groin/thigh', 'Hip/groin/thigh', 'Knee', 'Hip/groin/thigh', 'Knee', 'Shin/ankle/foot', 'Forearm/wrist/hand', 'Shin/ankle/foot', 'Forearm/wrist/hand', 'Shin/ankle/foot', 'Trunk/spine', 'Hip/groin/thigh', 'Forearm/wrist/hand', 'Hip/groin/thigh', 'Forearm/wrist/hand', 'Head/neck ', 'Hip/groin/thigh', 'Shoulder/arm/elbow', 'Hip/groin/thigh', 'Trunk/spine', 'Hip/groin/thigh', 'Shin/ankle/foot', 'Knee', 'Trunk/spine', 'Trunk/spine', 'Forearm/wrist/hand', 'Hip/groin/thigh', 'Shin/ankle/foot', 'Shin/ankle/foot', 'Knee', 'Hip/groin/thigh', 'Forearm/wrist/hand', 'Knee']\n"
     ]
    }
   ],
   "source": [
    "#Once again, I'll use the random choice function to generate random list weighted by real world probability\n",
    "import random\n",
    "Region=random.choices(['Head/neck ', 'Shoulder/arm/elbow', 'Forearm/wrist/hand', 'Trunk/spine', 'Hip/groin/thigh','Knee', 'Shin/ankle/foot'], [0.054, 0.029, 0.122, 0.093, 0.387, 0.074, 0.24], k=250)\n",
    "print(Region)"
   ]
  },
  {
   "cell_type": "code",
   "execution_count": 25,
   "metadata": {},
   "outputs": [
    {
     "name": "stdout",
     "output_type": "stream",
     "text": [
      "Counter({'Hip/groin/thigh': 104, 'Shin/ankle/foot': 45, 'Forearm/wrist/hand': 32, 'Trunk/spine': 26, 'Knee': 24, 'Head/neck ': 15, 'Shoulder/arm/elbow': 4})\n"
     ]
    }
   ],
   "source": [
    "#Check count to see our list is weighted satisfactorily\n",
    "from collections import Counter  \n",
    "\n",
    "c = Counter(Region)\n",
    "print(c)"
   ]
  },
  {
   "cell_type": "code",
   "execution_count": 26,
   "metadata": {},
   "outputs": [
    {
     "data": {
      "image/png": "[encoded data removed]",
      "text/plain": [
       "<matplotlib.figure.Figure at 0x1a1b675668>"
      ]
     },
     "metadata": {},
     "output_type": "display_data"
    }
   ],
   "source": [
    "# Creating a histogram of our injured region data:\n",
    "\n",
    "import matplotlib.pyplot as plt\n",
    "%matplotlib inline\n",
    "\n",
    "plt.hist(Region) # Plot histogram of our randomly generated hurling injury data (x)\n",
    "plt.ylabel('Number of Injuries') # label y axis \n",
    "plt.xlabel('Injured Region') # label x axis \n",
    "plt.title('Hurling Injury Occasion') # Add title\n",
    "plt.show()"
   ]
  },
  {
   "cell_type": "code",
   "execution_count": 27,
   "metadata": {},
   "outputs": [
    {
     "name": "stdout",
     "output_type": "stream",
     "text": [
      "           Age       Occasion              Region Weather Conditions\n",
      "0    27.948342           Game     Hip/groin/thigh                Wet\n",
      "1    25.940312       Training         Trunk/spine                Dry\n",
      "2    24.160817       Training     Hip/groin/thigh                Dry\n",
      "3    23.454316           Game     Hip/groin/thigh                Dry\n",
      "4    24.867885  Training Game          Head/neck                 Dry\n",
      "5    22.397188       Training     Hip/groin/thigh                Wet\n",
      "6    21.429085  Training Game  Forearm/wrist/hand                Dry\n",
      "7    21.116818       Training     Hip/groin/thigh                Dry\n",
      "8    22.305198           Game     Hip/groin/thigh                Dry\n",
      "9    23.275337           Game     Hip/groin/thigh                Dry\n",
      "10   24.448183       Training     Shin/ankle/foot                Wet\n",
      "11   26.752051  Training Game  Forearm/wrist/hand                Dry\n",
      "12   22.200121           Game     Hip/groin/thigh                Dry\n",
      "13   21.758328           Game     Hip/groin/thigh                Dry\n",
      "14   24.740218           Game         Trunk/spine                Dry\n",
      "15   23.270509  Training Game     Hip/groin/thigh                Wet\n",
      "16   20.957542           Game     Hip/groin/thigh                Dry\n",
      "17   23.854581           Game     Hip/groin/thigh                Dry\n",
      "18   22.038494       Training  Forearm/wrist/hand                Dry\n",
      "19   19.643871           Game     Shin/ankle/foot      Wet and Windy\n",
      "20   23.978466           Game                Knee      Dry and Windy\n",
      "21   22.849816  Training Game          Head/neck                 Dry\n",
      "22   25.057080       Training                Knee                Dry\n",
      "23   27.410907           Game  Forearm/wrist/hand                Dry\n",
      "24   24.176530           Game     Hip/groin/thigh                Dry\n",
      "25   24.521543       Training         Trunk/spine                Dry\n",
      "26   22.125040    Unspecified     Hip/groin/thigh                Dry\n",
      "27   19.048361    Unspecified     Hip/groin/thigh                Dry\n",
      "28   21.147331    Unspecified          Head/neck                 Dry\n",
      "29   21.215055       Training     Shin/ankle/foot                Dry\n",
      "..         ...            ...                 ...                ...\n",
      "220  17.368514       Training     Hip/groin/thigh                Wet\n",
      "221  21.845014           Game                Knee                Dry\n",
      "222  23.232416           Game     Shin/ankle/foot                Wet\n",
      "223  23.083583       Training  Forearm/wrist/hand                Dry\n",
      "224  26.114850           Game     Shin/ankle/foot                Dry\n",
      "225  21.488919       Training  Forearm/wrist/hand                Dry\n",
      "226  27.022685           Game     Shin/ankle/foot                Wet\n",
      "227  20.943063           Game         Trunk/spine            Snowing\n",
      "228  25.197125       Training     Hip/groin/thigh                Wet\n",
      "229  22.030273           Game  Forearm/wrist/hand                Dry\n",
      "230  26.367755           Game     Hip/groin/thigh                Dry\n",
      "231  24.053879  Training Game  Forearm/wrist/hand                Dry\n",
      "232  19.570390           Game          Head/neck                 Dry\n",
      "233  23.960348           Game     Hip/groin/thigh                Wet\n",
      "234  19.836207           Game  Shoulder/arm/elbow                Dry\n",
      "235  23.148625           Game     Hip/groin/thigh                Wet\n",
      "236  23.381792  Training Game         Trunk/spine                Dry\n",
      "237  22.113600           Game     Hip/groin/thigh                Dry\n",
      "238  21.552281           Game     Shin/ankle/foot                Wet\n",
      "239  22.328164           Game                Knee                Dry\n",
      "240  18.407262  Training Game         Trunk/spine                Dry\n",
      "241  24.195878           Game         Trunk/spine                Dry\n",
      "242  21.708271           Game  Forearm/wrist/hand                Dry\n",
      "243  22.495116  Training Game     Hip/groin/thigh                Wet\n",
      "244  23.168224  Training Game     Shin/ankle/foot                Dry\n",
      "245  22.590597           Game     Shin/ankle/foot                Wet\n",
      "246  26.365915           Game                Knee      Dry and Windy\n",
      "247  26.720253           Game     Hip/groin/thigh                Dry\n",
      "248  21.726664           Game  Forearm/wrist/hand                Dry\n",
      "249  21.479771           Game                Knee                Wet\n",
      "\n",
      "[250 rows x 4 columns]\n"
     ]
    }
   ],
   "source": [
    "import pandas as pd\n",
    "#Create dataframe with all our randomly generated hurling injury data\n",
    "df=pd.DataFrame(data={'Region': Region, 'Weather Conditions': weather, 'Occasion': occasion, 'Age': age})\n",
    "print(df)"
   ]
  },
  {
   "cell_type": "markdown",
   "metadata": {
    "collapsed": true
   },
   "source": [
    "<h3>References</h3>\n",
    "<ul><li>http://citeseerx.ist.psu.edu/viewdoc/download?doi=10.1.1.907.1800&rep=rep1&type=pdf</li>\n",
    "<li>https://github.com/Datagatherer2357/Project-Programming-for-data-analysis-GMIT/blob/master/Project-real-world-dataset.ipynb</li>\n",
    "<li>https://www.gaelicplayers.com/Portals/0/Publications/RS76.pdf</li>\n",
    "<li>http://www.tcd.ie/medicine/bulletin/assets/includes/docs/BJSM%20gaa.pdf</li>\n",
    "<li>https://bjsm.bmj.com/content/45/4/337.1</li>\n",
    "<li>http://www.tcd.ie/medicine/bulletin/assets/includes/docs/BJSM%20gaa.pdf</li>\n",
    "<li>https://www.ncbi.nlm.nih.gov/pubmed/22879401</li>\n",
    "<li>https://www.researchgate.net/publication/230645569_Incidence_of_Injury_in_Gaelic_Football_A_4Year_Prospective_Study</li>\n",
    "<li>https://journals.sagepub.com/doi/pdf/10.1177/0363546512455315</li>\n",
    "<li>http://library.isr.ist.utl.pt/docs/numpy/reference/generated/numpy.random.normal.html</li>\n",
    "<li>http://citeseerx.ist.psu.edu/viewdoc/download?doi=10.1.1.907.1800&rep=rep1&type=pdf</li></ul>\n",
    "\n"
   ]
  },
  {
   "cell_type": "code",
   "execution_count": null,
   "metadata": {
    "collapsed": true
   },
   "outputs": [],
   "source": []
  }
 ],
 "metadata": {
  "kernelspec": {
   "display_name": "Python 3",
   "language": "python",
   "name": "python3"
  },
  "language_info": {
   "codemirror_mode": {
    "name": "ipython",
    "version": 3
   },
   "file_extension": ".py",
   "mimetype": "text/x-python",
   "name": "python",
   "nbconvert_exporter": "python",
   "pygments_lexer": "ipython3",
   "version": "3.6.3"
  }
 },
 "nbformat": 4,
 "nbformat_minor": 2
}
