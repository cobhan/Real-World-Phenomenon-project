{
 "cells": [
  {
   "cell_type": "markdown",
   "metadata": {},
   "source": [
    "<img src=\"https://learnonline.gmit.ie/pluginfile.php/1/theme_adaptable/logo/1538655948/Transparent%20new.png\" align=\"left\"/>"
   ]
  },
  {
   "cell_type": "markdown",
   "metadata": {},
   "source": [
    "<h1>Higher Diploma in Science in Computing (Data Analytics) - Programming for Data Analysis</h1>\n",
    "<h2>Real World Data Project - December 2018</h2> \n",
    "<h3>Cóbhan Phillipson</h3>\n",
    "<hr>"
   ]
  },
  {
   "cell_type": "markdown",
   "metadata": {},
   "source": [
    "<h3>Introduction</h3>\n",
    "<p>This project is conducted as part of a project for a Programming for Data Analysis module. This module is part of the Higher Diploma in Science in Computing (Data Analytics) in GMIT. Having focused our analysis so far on existing datasets, this project is something of a departure in that we are required to create a data set by simulating a real-world phenomenon of our own choosing.</p> \n",
    "\n",
    "<p>This project requirements are the following:</p>\n",
    "<ul><li>Choose a real-world phenomenon that can be measured and contains at least one-hundred data points across at least four different variables.</li>\n",
    "<li>Investigate the types of variables involved, their likely distributions, and their relationships with each other.</li>\n",
    "<li>Synthesise/simulate a data set as closely matching their properties as possible.</li>\n",
    "<li>Detail the research and implement the simulation in a Jupyter notebook – the data set itself can simply be displayed in an output cell within the notebook.</li></ul>\n",
    "\n",
    "<p>For my first foray into the world of dataset creation, I have chosen to analyze the incidence of injuries in elite level county hurling. The variables I will examine include the type of injuries sustained, whether these injuries were sustained during matches or training, the injured area, and the age of the players in question. </p>\n",
    "\n",
    "<p>The following variables will be included:</p>\n",
    "<ul><li><strong>Age</strong> (18-38)</li>\n",
    "<li><strong>Occasion</strong> (Game, Training, Training Game, Unspecified)</li>\n",
    "<li><strong>Weather Conditions</strong> (Dry, Wet, Dry and Windy, Wet and Windy, Snowing, Windy)</li>\n",
    "<li><strong>Injured Region</strong> (Head/neck, Shoulder/arm/elbow, Forearm/wrist/hand, Trunk/spine, Hip/groin/thigh,  Knee, Shin/ankle foot)</li></ul>"
   ]
  },
  {
   "cell_type": "markdown",
   "metadata": {
    "collapsed": true
   },
   "source": [
    "<h3>Age</h3>\n",
    "<p>To begin this research, I will analyze the age variable. I will build on data from a 2013 research project by John C Murphy which found the mean age of the intercounty hurler to be 23.3±2.5 years[1]. I will generate 250 subjects for this study using NumPy random package - and weighting the data set in accordance with the average age.</p>"
   ]
  },
  {
   "cell_type": "code",
   "execution_count": 30,
   "metadata": {
    "collapsed": true
   },
   "outputs": [],
   "source": [
    "# Import libraries\n",
    "import numpy as np\n",
    "import numpy.random as npr\n",
    "import pandas as pd\n",
    "import matplotlib.pyplot as plt\n",
    "import seaborn as sns\n",
    "%matplotlib inline"
   ]
  },
  {
   "cell_type": "code",
   "execution_count": 31,
   "metadata": {},
   "outputs": [
    {
     "name": "stdout",
     "output_type": "stream",
     "text": [
      "[ 19.88520162  25.05967262  23.00716093  27.12726877  19.48676508\n",
      "  26.85126127  22.47183926  19.72077198  25.230002    22.51714398\n",
      "  25.32223943  24.89818192  26.58522659  21.75173612  25.58181991\n",
      "  27.97054902  21.82989268  24.23838626  17.76171273  22.96021013\n",
      "  26.2816526   23.67026181  23.28718428  26.15459887  28.88178463\n",
      "  23.0594355   25.72398033  20.98042802  19.29098548  22.46967472\n",
      "  21.06687479  28.74436994  20.76710885  23.13883902  24.77436913\n",
      "  21.75400244  20.9428326   20.0073092   25.98811876  24.70294116\n",
      "  21.81120192  22.79971364  22.48807279  25.90457249  26.60670727\n",
      "  26.96079214  24.83924471  23.70972548  25.15415438  21.62208462\n",
      "  25.54950514  21.79414492  26.44331379  20.73274848  23.57476814\n",
      "  25.16617722  27.92281884  24.75104001  24.17395561  22.7905717\n",
      "  24.76915952  19.65404458  27.58428231  27.27944643  20.89896979\n",
      "  21.37255431  20.87155855  20.31513616  26.76802839  18.73487031\n",
      "  24.76059126  21.92422406  20.26076605  25.08054277  25.07150184\n",
      "  18.21051682  21.68082136  24.32473618  26.13322385  21.89008477\n",
      "  24.35374868  24.93444095  17.32535984  21.52985561  20.50416612\n",
      "  19.6560941   23.72500499  24.72060012  25.69949436  23.97375124\n",
      "  26.11599346  24.15347139  19.83508622  21.34113152  23.11151294\n",
      "  27.84531746  22.06038028  25.2238265   23.53627925  22.33728169\n",
      "  25.06525082  18.73438016  23.64879651  27.90894222  21.35838637\n",
      "  23.79130387  22.78173767  20.82773585  21.69573719  25.7523044\n",
      "  21.14848817  21.43600865  25.91516296  24.07886408  23.82104708\n",
      "  24.25756686  22.38194503  21.11876722  20.08763072  23.80389241\n",
      "  26.60219742  25.02209065  21.76905289  22.95821426  25.41684611\n",
      "  24.13394713  20.3144427   26.902679    23.08340211  22.54235593\n",
      "  21.04379482  24.22035937  27.20360087  24.81404603  22.01689057\n",
      "  24.91276231  18.6772079   25.83547321  24.93827931  23.4909656\n",
      "  24.33609965  22.68323278  22.7937607   22.0430068   29.03659868\n",
      "  25.82641834  24.4866893   24.14556724  24.61357231  23.83887088\n",
      "  21.94869449  23.61695866  24.76042691  23.89599086  24.51623736\n",
      "  23.4727169   24.98493983  21.51356226  26.21550402  23.40335757\n",
      "  25.90650973  15.14657516  27.41084275  21.19305719  23.44485622\n",
      "  26.64711196  22.52748249  25.14151702  21.69648027  26.10895055\n",
      "  25.40020591  22.99517604  20.48527216  24.12860455  22.84548933\n",
      "  21.10198174  24.61878589  26.25074642  21.01487698  24.38980271\n",
      "  20.76288067  22.26008356  23.85397747  26.3539716   18.7010772\n",
      "  23.72132732  18.54960157  22.36535493  21.99724821  24.13819712\n",
      "  24.02966137  24.27705698  17.9531947   17.99313592  21.55943071\n",
      "  21.58164786  22.20094508  23.77007505  27.20854617  24.19943577\n",
      "  22.12730948  18.48790377  21.32376368  19.04272715  23.57096807\n",
      "  21.97000868  22.65155433  23.58753236  23.6947302   22.00046107\n",
      "  25.06184877  28.25780082  22.09669798  20.23971893  25.04177374\n",
      "  19.43967794  21.07304268  24.57866372  22.65757764  21.85713434\n",
      "  26.83135678  22.42156678  21.82229267  23.69566322  20.08907915\n",
      "  22.06513841  21.3316749   21.04403019  26.4289965   23.80894397\n",
      "  25.6725738   23.06293424  24.41434481  26.35213205  25.07913586\n",
      "  24.16162897  22.99732868  27.19826187  20.80469912  24.72274182\n",
      "  23.46086147  20.98537225  21.38415864  25.21452641  24.36122941\n",
      "  25.72596429  22.29053189  22.33313346  19.30213848  22.10555163]\n"
     ]
    }
   ],
   "source": [
    "mu, sigma = 23.3, 2.5 #set age and standard deviation\n",
    "age = np.random.normal(mu, sigma, 250) #set number of subjects as 250\n",
    "print(age)"
   ]
  },
  {
   "cell_type": "markdown",
   "metadata": {},
   "source": [
    "<p>Using matplotlib, I have plotted our random data set of hurlers and their age. </p>"
   ]
  },
  {
   "cell_type": "code",
   "execution_count": 32,
   "metadata": {},
   "outputs": [
    {
     "data": {
      "image/png": "[encoded data removed]",
      "text/plain": [
       "<matplotlib.figure.Figure at 0x1a10f65550>"
      ]
     },
     "metadata": {},
     "output_type": "display_data"
    }
   ],
   "source": [
    "import matplotlib.pyplot as plt\n",
    "import numpy as np\n",
    "mu, sigma = 23.3, 2.5 #set age and standard deviation\n",
    "x = np.random.normal(mu, sigma, 250) #set number of subjects as 250 \n",
    "plt.plot(age, 'b.') #using b. to remove unnecessary line and replace each data point with a blue dot\n",
    "plt.ylabel('age')\n",
    "ax.tick_params(labelbottom=False) #Hide label from the x axis as it is not necessary in this plot \n",
    "plt.xticks([]) #Hide x axis \n",
    "plt.show() "
   ]
  },
  {
   "cell_type": "markdown",
   "metadata": {},
   "source": [
    "The above plot just helps us to visualize the ages of intercounty hurlers today. As we can see, there is a cluster of dots around 22-24. "
   ]
  },
  {
   "cell_type": "markdown",
   "metadata": {
    "collapsed": true
   },
   "source": [
    "<h3>Occasion</h3>\n",
    "<p>The second variable we will examine is the occasion or event that the injury occured in. Within this variable are 4 possibilities - Game, Training, Training Game, and Unspecified. Once again, I will lean on John C Murphy's research to help generate this random dataset. Murphy's study showed the following break down of injury occasion:</p>\n",
    "<ul><li>Game 55.4%</li>\n",
    "<li>Training Game 16.7%</li>\n",
    "<li>Training 25%</li>\n",
    "<li>Unspecified 2.9%</li></ul>"
   ]
  },
  {
   "cell_type": "code",
   "execution_count": 2,
   "metadata": {},
   "outputs": [
    {
     "name": "stdout",
     "output_type": "stream",
     "text": [
      "['Training Game', 'Game', 'Training Game', 'Unspecified', 'Game', 'Training', 'Training Game', 'Training', 'Unspecified', 'Training Game', 'Unspecified', 'Training Game', 'Training Game', 'Unspecified', 'Unspecified', 'Training Game', 'Game', 'Training Game', 'Unspecified', 'Training', 'Unspecified', 'Training', 'Game', 'Unspecified', 'Unspecified', 'Training Game', 'Training Game', 'Game', 'Training Game', 'Game', 'Unspecified', 'Unspecified', 'Unspecified', 'Training Game', 'Training', 'Game', 'Game', 'Training Game', 'Game', 'Training', 'Training Game', 'Training', 'Training Game', 'Training Game', 'Training', 'Training Game', 'Training', 'Training', 'Unspecified', 'Training Game', 'Training', 'Unspecified', 'Training Game', 'Game', 'Game', 'Game', 'Unspecified', 'Training', 'Game', 'Training', 'Training Game', 'Unspecified', 'Game', 'Training Game', 'Game', 'Unspecified', 'Training', 'Game', 'Training Game', 'Unspecified', 'Training Game', 'Game', 'Unspecified', 'Training Game', 'Game', 'Training', 'Unspecified', 'Game', 'Training', 'Game', 'Training', 'Training', 'Training', 'Unspecified', 'Training Game', 'Unspecified', 'Training Game', 'Training Game', 'Unspecified', 'Training Game', 'Training', 'Game', 'Unspecified', 'Training Game', 'Training', 'Game', 'Unspecified', 'Training Game', 'Unspecified', 'Game', 'Unspecified', 'Training Game', 'Game', 'Training Game', 'Game', 'Unspecified', 'Game', 'Training', 'Unspecified', 'Unspecified', 'Training Game', 'Unspecified', 'Training', 'Training Game', 'Training', 'Training Game', 'Training Game', 'Training', 'Game', 'Game', 'Unspecified', 'Unspecified', 'Game', 'Training', 'Training Game', 'Unspecified', 'Unspecified', 'Training Game', 'Training Game', 'Unspecified', 'Unspecified', 'Unspecified', 'Training Game', 'Game', 'Training', 'Training Game', 'Unspecified', 'Training Game', 'Training Game', 'Training Game', 'Unspecified', 'Unspecified', 'Unspecified', 'Training', 'Training', 'Game', 'Unspecified', 'Training', 'Game', 'Unspecified', 'Training', 'Training Game', 'Training Game', 'Training Game', 'Unspecified', 'Training Game', 'Training Game', 'Unspecified', 'Unspecified', 'Game', 'Training', 'Training Game', 'Training Game', 'Unspecified', 'Training', 'Game', 'Unspecified', 'Unspecified', 'Training Game', 'Unspecified', 'Unspecified', 'Training Game', 'Training', 'Unspecified', 'Unspecified', 'Training', 'Training', 'Game', 'Unspecified', 'Training', 'Training', 'Game', 'Training Game', 'Training', 'Unspecified', 'Training Game', 'Unspecified', 'Game', 'Training Game', 'Training', 'Training', 'Training', 'Training', 'Unspecified', 'Game', 'Unspecified', 'Unspecified', 'Unspecified', 'Training Game', 'Game', 'Training Game', 'Training', 'Training Game', 'Unspecified', 'Game', 'Training', 'Training', 'Training Game', 'Unspecified', 'Unspecified', 'Training', 'Training', 'Training', 'Unspecified', 'Training', 'Unspecified', 'Game', 'Training', 'Game', 'Unspecified', 'Game', 'Training Game', 'Unspecified', 'Unspecified', 'Game', 'Training Game', 'Training', 'Training Game', 'Game', 'Unspecified', 'Game', 'Game', 'Training', 'Training Game', 'Training Game', 'Training', 'Unspecified', 'Training', 'Game', 'Game', 'Training Game', 'Training Game', 'Training', 'Game', 'Training Game', 'Unspecified', 'Game', 'Unspecified', 'Training Game', 'Training']\n"
     ]
    }
   ],
   "source": [
    "import numpy as np\n",
    "possible_occasion = ['Game', 'Training Game', 'Training', 'Unspecified'] #List of allowed strings\n",
    "my_names = [np.random.choice(possible_occasion) for i in range(250)] #Use Numpy Random function to generate an array of 250 allowed names \n",
    "print(my_names) #Thanks very much Patrick Moore https://learnonline.gmit.ie/mod/forum/discuss.php?d=7105"
   ]
  },
  {
   "cell_type": "code",
   "execution_count": 20,
   "metadata": {},
   "outputs": [
    {
     "data": {
      "text/plain": [
       "Counter({'Game': 51, 'Training': 57, 'Training Game': 69, 'Unspecified': 73})"
      ]
     },
     "execution_count": 20,
     "metadata": {},
     "output_type": "execute_result"
    }
   ],
   "source": [
    "#Using Counter tool we can identify a small problem with our output. The array is not weighted how we want it to be.\n",
    "from collections import Counter  \n",
    "c = Counter(my_names)\n",
    "c "
   ]
  },
  {
   "cell_type": "code",
   "execution_count": 33,
   "metadata": {},
   "outputs": [
    {
     "name": "stdout",
     "output_type": "stream",
     "text": [
      "['Game', 'Game', 'Training', 'Game', 'Unspecified', 'Game', 'Game', 'Game', 'Training', 'Training', 'Game', 'Training', 'Game', 'Training Game', 'Game', 'Game', 'Game', 'Training Game', 'Game', 'Game', 'Game', 'Training', 'Game', 'Game', 'Game', 'Unspecified', 'Training', 'Game', 'Training Game', 'Training Game', 'Training Game', 'Training', 'Unspecified', 'Training Game', 'Training Game', 'Training', 'Game', 'Training Game', 'Training', 'Training Game', 'Game', 'Training Game', 'Training', 'Game', 'Game', 'Training', 'Game', 'Training Game', 'Game', 'Training', 'Game', 'Training', 'Game', 'Game', 'Game', 'Training', 'Game', 'Training', 'Game', 'Game', 'Training Game', 'Game', 'Training', 'Game', 'Game', 'Game', 'Game', 'Training', 'Training Game', 'Game', 'Training', 'Game', 'Training', 'Game', 'Game', 'Game', 'Game', 'Training', 'Game', 'Training', 'Game', 'Game', 'Training', 'Game', 'Game', 'Training Game', 'Training Game', 'Training', 'Game', 'Game', 'Training', 'Training', 'Game', 'Training Game', 'Training Game', 'Training', 'Game', 'Game', 'Game', 'Game', 'Game', 'Game', 'Training', 'Game', 'Training', 'Game', 'Game', 'Game', 'Training', 'Game', 'Training Game', 'Game', 'Game', 'Training', 'Game', 'Game', 'Game', 'Training', 'Game', 'Unspecified', 'Game', 'Training Game', 'Training', 'Game', 'Training', 'Training', 'Training Game', 'Game', 'Training', 'Training', 'Game', 'Training', 'Game', 'Game', 'Game', 'Training Game', 'Game', 'Training', 'Game', 'Game', 'Game', 'Game', 'Game', 'Game', 'Game', 'Training', 'Training', 'Training', 'Game', 'Game', 'Game', 'Game', 'Game', 'Game', 'Training', 'Game', 'Game', 'Game', 'Training', 'Training Game', 'Game', 'Game', 'Game', 'Game', 'Game', 'Game', 'Game', 'Game', 'Game', 'Game', 'Training', 'Game', 'Game', 'Training', 'Game', 'Game', 'Game', 'Game', 'Training', 'Training', 'Game', 'Training', 'Game', 'Training Game', 'Training', 'Training Game', 'Game', 'Training', 'Training', 'Game', 'Training', 'Training Game', 'Game', 'Game', 'Training', 'Game', 'Game', 'Game', 'Training Game', 'Game', 'Game', 'Training', 'Game', 'Game', 'Game', 'Game', 'Training', 'Training', 'Training', 'Game', 'Training Game', 'Training Game', 'Game', 'Game', 'Unspecified', 'Training', 'Game', 'Game', 'Training', 'Game', 'Game', 'Training Game', 'Game', 'Game', 'Game', 'Game', 'Game', 'Game', 'Training', 'Training Game', 'Training Game', 'Training Game', 'Training', 'Game', 'Unspecified', 'Game', 'Training Game', 'Game', 'Game', 'Training', 'Game', 'Game', 'Game', 'Training Game', 'Game', 'Training Game', 'Game', 'Game', 'Training Game', 'Training Game']\n"
     ]
    }
   ],
   "source": [
    "#Use random function to set the weight of our list\n",
    "import random\n",
    "occasion=random.choices(['Game', 'Training Game', 'Training', 'Unspecified'], [0.554, 0.167, 0.25, 0.029], k=250)\n",
    "print(occasion)"
   ]
  },
  {
   "cell_type": "code",
   "execution_count": 34,
   "metadata": {},
   "outputs": [
    {
     "name": "stdout",
     "output_type": "stream",
     "text": [
      "Counter({'Game': 145, 'Training': 62, 'Training Game': 37, 'Unspecified': 6})\n"
     ]
    }
   ],
   "source": [
    "#check that the list is more satisfactorily weighted with counter function\n",
    "from collections import Counter  \n",
    "\n",
    "c = Counter(occasion)\n",
    "print(c)"
   ]
  },
  {
   "cell_type": "code",
   "execution_count": 35,
   "metadata": {},
   "outputs": [
    {
     "data": {
      "image/png": "[encoded data removed]",
      "text/plain": [
       "<matplotlib.figure.Figure at 0x1a10ebee80>"
      ]
     },
     "metadata": {},
     "output_type": "display_data"
    }
   ],
   "source": [
    "# Creating a histogram of our injury occasion data:\n",
    "\n",
    "import matplotlib.pyplot as plt\n",
    "%matplotlib inline\n",
    "\n",
    "plt.hist(occasion) # Plot histogram of our randomly generated hurling injury data (x)\n",
    "plt.ylabel('Number of Injuries') # label y axis \n",
    "plt.xlabel('Event') # label x axis \n",
    "plt.title('Hurling Injury Occasion') # Add title\n",
    "\n",
    "plt.show()"
   ]
  },
  {
   "cell_type": "markdown",
   "metadata": {},
   "source": [
    "<h3>Weather Conditions</h3>\n",
    "<p>The next stop on our journey is to generate a random dataset of the type of weather conditions during which elite hurlers picked up injuries. Once again we will lean on John C Murphy's hurling injury research to help us generate a random dataset that mirrors real-world probabilities.</p>\n",
    "<p>The possibilities are the following weather conditions:</p>\n",
    "<ul><li>Dry 66.6%</li>\n",
    "<li>Wet 20.5%</li> \n",
    "<li>Dry and Windy 7.6%</li> \n",
    "<li>Wet and Windy 3.5%</li> \n",
    "<li>Snowing 1.2%</li> \n",
    "<li>Windy 0.6%</li></ul>"
   ]
  },
  {
   "cell_type": "code",
   "execution_count": 36,
   "metadata": {},
   "outputs": [
    {
     "name": "stdout",
     "output_type": "stream",
     "text": [
      "['Wet and Windy', 'Wet', 'Dry', 'Dry', 'Dry', 'Wet', 'Wet', 'Wet and Windy', 'Dry', 'Dry', 'Dry and Windy', 'Dry', 'Dry', 'Dry', 'Dry', 'Dry', 'Dry', 'Dry', 'Dry and Windy', 'Dry and Windy', 'Dry', 'Dry', 'Dry', 'Wet', 'Dry', 'Wet', 'Dry', 'Dry', 'Dry', 'Dry', 'Wet', 'Wet', 'Dry', 'Dry', 'Wet', 'Dry', 'Dry', 'Dry', 'Dry', 'Dry', 'Dry', 'Dry', 'Dry', 'Dry', 'Dry', 'Dry', 'Wet', 'Dry', 'Dry', 'Dry', 'Dry', 'Dry and Windy', 'Dry and Windy', 'Dry', 'Windy', 'Dry', 'Dry and Windy', 'Dry', 'Dry', 'Wet', 'Dry', 'Dry', 'Dry and Windy', 'Dry and Windy', 'Dry', 'Wet and Windy', 'Dry', 'Dry', 'Dry', 'Dry', 'Dry', 'Dry', 'Dry', 'Dry', 'Wet', 'Wet', 'Dry', 'Dry', 'Dry', 'Dry', 'Wet', 'Wet and Windy', 'Wet and Windy', 'Dry', 'Dry', 'Dry', 'Wet', 'Dry', 'Wet', 'Dry', 'Dry', 'Dry', 'Dry', 'Dry', 'Wet', 'Wet', 'Wet', 'Dry', 'Dry', 'Dry', 'Dry and Windy', 'Dry', 'Dry and Windy', 'Wet', 'Dry', 'Dry', 'Dry', 'Wet', 'Dry', 'Dry', 'Dry', 'Dry', 'Dry', 'Dry', 'Dry', 'Dry and Windy', 'Dry', 'Dry', 'Dry', 'Dry', 'Dry', 'Dry', 'Dry', 'Dry', 'Dry', 'Dry', 'Dry', 'Dry', 'Dry', 'Dry', 'Dry', 'Dry', 'Dry', 'Dry and Windy', 'Dry and Windy', 'Dry and Windy', 'Dry', 'Dry', 'Dry', 'Dry', 'Dry', 'Wet', 'Dry', 'Wet', 'Snowing', 'Dry and Windy', 'Dry', 'Wet', 'Wet', 'Wet', 'Dry', 'Dry', 'Wet', 'Wet', 'Dry', 'Dry', 'Dry', 'Dry and Windy', 'Dry', 'Dry', 'Wet', 'Dry', 'Dry', 'Wet', 'Dry', 'Dry', 'Dry', 'Dry', 'Wet', 'Wet', 'Dry', 'Dry and Windy', 'Dry', 'Dry', 'Wet', 'Dry', 'Wet', 'Dry', 'Wet', 'Dry and Windy', 'Dry', 'Dry', 'Dry', 'Dry and Windy', 'Dry', 'Dry', 'Dry', 'Dry', 'Dry', 'Dry', 'Dry', 'Snowing', 'Dry', 'Wet', 'Dry and Windy', 'Wet and Windy', 'Dry and Windy', 'Wet', 'Wet', 'Dry and Windy', 'Dry', 'Dry', 'Wet', 'Wet', 'Dry', 'Windy', 'Dry', 'Dry', 'Dry and Windy', 'Dry', 'Dry', 'Dry', 'Dry', 'Dry', 'Dry and Windy', 'Dry', 'Dry', 'Dry', 'Dry', 'Snowing', 'Dry', 'Wet', 'Dry and Windy', 'Dry', 'Dry', 'Wet and Windy', 'Dry', 'Dry', 'Dry', 'Dry and Windy', 'Dry', 'Dry', 'Dry', 'Dry', 'Wet and Windy', 'Dry', 'Dry', 'Dry', 'Wet', 'Dry', 'Dry', 'Dry', 'Dry', 'Dry', 'Dry', 'Dry', 'Dry', 'Dry', 'Dry', 'Dry']\n"
     ]
    }
   ],
   "source": [
    "#Once again I will use Random choice function to generate a random weighted list of 250 strings\n",
    "import random\n",
    "weather=random.choices(['Dry', 'Wet', 'Dry and Windy', 'Wet and Windy', 'Snowing','Windy'], [0.666, 0.205, 0.076, 0.035, 0.012, 0.006], k=250)\n",
    "print(weather)"
   ]
  },
  {
   "cell_type": "code",
   "execution_count": 37,
   "metadata": {},
   "outputs": [
    {
     "name": "stdout",
     "output_type": "stream",
     "text": [
      "Counter({'Dry': 170, 'Wet': 41, 'Dry and Windy': 26, 'Wet and Windy': 8, 'Snowing': 3, 'Windy': 2})\n"
     ]
    }
   ],
   "source": [
    "from collections import Counter  \n",
    "\n",
    "c = Counter(weather)\n",
    "print(c)"
   ]
  },
  {
   "cell_type": "code",
   "execution_count": 147,
   "metadata": {},
   "outputs": [
    {
     "data": {
      "image/png": "[encoded data removed]",
      "text/plain": [
       "<matplotlib.figure.Figure at 0x115588978>"
      ]
     },
     "metadata": {},
     "output_type": "display_data"
    }
   ],
   "source": [
    "#Show hurling injury weather type data on pie chart https://matplotlib.org/gallery/pie_and_polar_charts/pie_features.html#sphx-glr-gallery-pie-and-polar-charts-pie-features-py\n",
    "\n",
    "import matplotlib.pyplot as plt\n",
    "%matplotlib inline\n",
    "\n",
    "# Pie chart, where the slices will be ordered and plotted counter-clockwise:\n",
    "labels = ['Dry', 'Wet', 'Dry and Windy', 'Wet and Windy', 'Snowing','Windy']\n",
    "sizes = [0.666, 0.205, 0.076, 0.035, 0.012, 0.006]\n",
    "explode = (0.1, 0.1, 0.1, 0.1, 0.1, 0.1)  # explode Dry because it is most frequent weather condition during which hurling injuries occur\n",
    "\n",
    "fig1, ax1 = plt.subplots()\n",
    "ax1.pie(sizes, explode=explode, labels=labels, autopct='%1.1f%%',\n",
    "        shadow=True, startangle=90)\n",
    "ax1.axis('equal')  # Equal aspect ratio ensures that pie is drawn as a circle.\n",
    "\n",
    "plt.show()"
   ]
  },
  {
   "cell_type": "markdown",
   "metadata": {
    "collapsed": true
   },
   "source": [
    "<h3>Injured Region</h3>\n",
    "<p>The last variable I will examine is the injured region. The possibilities and the real-world probability of their occurance in this variable are:</p>\n",
    "<ul><li>Head/neck 5.4%</li> \n",
    "<li>Shoulder/arm/elbow 2.9%</li>\n",
    "<li>Forearm/wrist/hand 12.2%</li>\n",
    "<li>Trunk/spine 9.3%</li>\n",
    "<li>Hip/groin/thigh 38.7%</li>\n",
    "<li>Knee 7.4%</li>\n",
    "<li>Shin/ankle/foot 24%</li></ul>\n"
   ]
  },
  {
   "cell_type": "code",
   "execution_count": 20,
   "metadata": {},
   "outputs": [
    {
     "name": "stdout",
     "output_type": "stream",
     "text": [
      "['Trunk/spine', 'Forearm/wrist/hand', 'Shin/ankle/foot', 'Head/neck ', 'Knee', 'Shin/ankle/foot', 'Knee', 'Shoulder/arm/elbow', 'Trunk/spine', 'Shin/ankle/foot', 'Hip/groin/thigh', 'Hip/groin/thigh', 'Shoulder/arm/elbow', 'Head/neck ', 'Shin/ankle/foot', 'Forearm/wrist/hand', 'Hip/groin/thigh', 'Knee', 'Hip/groin/thigh', 'Forearm/wrist/hand', 'Knee', 'Knee', 'Forearm/wrist/hand', 'Knee', 'Hip/groin/thigh', 'Hip/groin/thigh', 'Hip/groin/thigh', 'Forearm/wrist/hand', 'Hip/groin/thigh', 'Shin/ankle/foot', 'Head/neck ', 'Shoulder/arm/elbow', 'Shin/ankle/foot', 'Head/neck ', 'Hip/groin/thigh', 'Shin/ankle/foot', 'Hip/groin/thigh', 'Hip/groin/thigh', 'Hip/groin/thigh', 'Shin/ankle/foot', 'Shin/ankle/foot', 'Forearm/wrist/hand', 'Forearm/wrist/hand', 'Shin/ankle/foot', 'Hip/groin/thigh', 'Shin/ankle/foot', 'Hip/groin/thigh', 'Hip/groin/thigh', 'Forearm/wrist/hand', 'Hip/groin/thigh', 'Shoulder/arm/elbow', 'Head/neck ', 'Hip/groin/thigh', 'Trunk/spine', 'Shin/ankle/foot', 'Knee', 'Hip/groin/thigh', 'Forearm/wrist/hand', 'Trunk/spine', 'Hip/groin/thigh', 'Trunk/spine', 'Shin/ankle/foot', 'Forearm/wrist/hand', 'Hip/groin/thigh', 'Hip/groin/thigh', 'Shin/ankle/foot', 'Trunk/spine', 'Hip/groin/thigh', 'Trunk/spine', 'Trunk/spine', 'Hip/groin/thigh', 'Knee', 'Forearm/wrist/hand', 'Trunk/spine', 'Shin/ankle/foot', 'Head/neck ', 'Hip/groin/thigh', 'Hip/groin/thigh', 'Trunk/spine', 'Trunk/spine', 'Shin/ankle/foot', 'Hip/groin/thigh', 'Hip/groin/thigh', 'Head/neck ', 'Forearm/wrist/hand', 'Shin/ankle/foot', 'Hip/groin/thigh', 'Hip/groin/thigh', 'Knee', 'Hip/groin/thigh', 'Shin/ankle/foot', 'Trunk/spine', 'Hip/groin/thigh', 'Hip/groin/thigh', 'Hip/groin/thigh', 'Knee', 'Forearm/wrist/hand', 'Hip/groin/thigh', 'Hip/groin/thigh', 'Hip/groin/thigh', 'Hip/groin/thigh', 'Shin/ankle/foot', 'Forearm/wrist/hand', 'Hip/groin/thigh', 'Shoulder/arm/elbow', 'Hip/groin/thigh', 'Shin/ankle/foot', 'Hip/groin/thigh', 'Hip/groin/thigh', 'Hip/groin/thigh', 'Hip/groin/thigh', 'Head/neck ', 'Forearm/wrist/hand', 'Shin/ankle/foot', 'Shin/ankle/foot', 'Hip/groin/thigh', 'Hip/groin/thigh', 'Hip/groin/thigh', 'Forearm/wrist/hand', 'Hip/groin/thigh', 'Hip/groin/thigh', 'Hip/groin/thigh', 'Shoulder/arm/elbow', 'Head/neck ', 'Hip/groin/thigh', 'Hip/groin/thigh', 'Trunk/spine', 'Forearm/wrist/hand', 'Hip/groin/thigh', 'Shoulder/arm/elbow', 'Knee', 'Head/neck ', 'Hip/groin/thigh', 'Shin/ankle/foot', 'Hip/groin/thigh', 'Hip/groin/thigh', 'Shin/ankle/foot', 'Hip/groin/thigh', 'Head/neck ', 'Forearm/wrist/hand', 'Forearm/wrist/hand', 'Knee', 'Shin/ankle/foot', 'Hip/groin/thigh', 'Forearm/wrist/hand', 'Hip/groin/thigh', 'Hip/groin/thigh', 'Forearm/wrist/hand', 'Hip/groin/thigh', 'Shin/ankle/foot', 'Hip/groin/thigh', 'Shin/ankle/foot', 'Head/neck ', 'Hip/groin/thigh', 'Hip/groin/thigh', 'Forearm/wrist/hand', 'Hip/groin/thigh', 'Forearm/wrist/hand', 'Forearm/wrist/hand', 'Hip/groin/thigh', 'Hip/groin/thigh', 'Hip/groin/thigh', 'Shin/ankle/foot', 'Hip/groin/thigh', 'Hip/groin/thigh', 'Hip/groin/thigh', 'Forearm/wrist/hand', 'Hip/groin/thigh', 'Shin/ankle/foot', 'Hip/groin/thigh', 'Shin/ankle/foot', 'Shin/ankle/foot', 'Trunk/spine', 'Hip/groin/thigh', 'Knee', 'Trunk/spine', 'Shin/ankle/foot', 'Trunk/spine', 'Hip/groin/thigh', 'Shin/ankle/foot', 'Shin/ankle/foot', 'Trunk/spine', 'Forearm/wrist/hand', 'Shin/ankle/foot', 'Trunk/spine', 'Hip/groin/thigh', 'Head/neck ', 'Shin/ankle/foot', 'Forearm/wrist/hand', 'Hip/groin/thigh', 'Hip/groin/thigh', 'Forearm/wrist/hand', 'Hip/groin/thigh', 'Trunk/spine', 'Forearm/wrist/hand', 'Head/neck ', 'Shin/ankle/foot', 'Shin/ankle/foot', 'Forearm/wrist/hand', 'Shin/ankle/foot', 'Hip/groin/thigh', 'Head/neck ', 'Shin/ankle/foot', 'Hip/groin/thigh', 'Hip/groin/thigh', 'Shin/ankle/foot', 'Hip/groin/thigh', 'Trunk/spine', 'Shin/ankle/foot', 'Shin/ankle/foot', 'Hip/groin/thigh', 'Hip/groin/thigh', 'Hip/groin/thigh', 'Hip/groin/thigh', 'Hip/groin/thigh', 'Forearm/wrist/hand', 'Knee', 'Hip/groin/thigh', 'Shoulder/arm/elbow', 'Shin/ankle/foot', 'Shin/ankle/foot', 'Hip/groin/thigh', 'Shin/ankle/foot', 'Knee', 'Hip/groin/thigh', 'Knee', 'Trunk/spine', 'Shin/ankle/foot', 'Shin/ankle/foot', 'Hip/groin/thigh', 'Hip/groin/thigh', 'Trunk/spine', 'Hip/groin/thigh', 'Shin/ankle/foot', 'Knee', 'Shin/ankle/foot', 'Forearm/wrist/hand', 'Shin/ankle/foot', 'Shin/ankle/foot', 'Hip/groin/thigh', 'Hip/groin/thigh', 'Hip/groin/thigh', 'Hip/groin/thigh', 'Hip/groin/thigh', 'Shin/ankle/foot', 'Shin/ankle/foot', 'Trunk/spine', 'Forearm/wrist/hand', 'Trunk/spine', 'Shin/ankle/foot']\n"
     ]
    }
   ],
   "source": [
    "#Once again, I'll use the random choice function to generate random list weighted by real world probability\n",
    "import random\n",
    "Region=random.choices(['Head/neck ', 'Shoulder/arm/elbow', 'Forearm/wrist/hand', 'Trunk/spine', 'Hip/groin/thigh','Knee', 'Shin/ankle/foot'], [0.054, 0.029, 0.122, 0.093, 0.387, 0.074, 0.24], k=250)\n",
    "print(Region)"
   ]
  },
  {
   "cell_type": "code",
   "execution_count": 22,
   "metadata": {},
   "outputs": [
    {
     "name": "stdout",
     "output_type": "stream",
     "text": [
      "Counter({'Hip/groin/thigh': 98, 'Shin/ankle/foot': 55, 'Forearm/wrist/hand': 33, 'Trunk/spine': 24, 'Knee': 17, 'Head/neck ': 15, 'Shoulder/arm/elbow': 8})\n"
     ]
    }
   ],
   "source": [
    "#Check count to see our list is weighted satisfactorily\n",
    "from collections import Counter  \n",
    "\n",
    "c = Counter(Region)\n",
    "print(c)"
   ]
  },
  {
   "cell_type": "code",
   "execution_count": 26,
   "metadata": {},
   "outputs": [
    {
     "data": {
      "image/png": "[encoded data removed]",
      "text/plain": [
       "<matplotlib.figure.Figure at 0x10d8cfe48>"
      ]
     },
     "metadata": {},
     "output_type": "display_data"
    }
   ],
   "source": [
    "# Creating a histogram of our injured region data:\n",
    "\n",
    "import matplotlib.pyplot as plt\n",
    "%matplotlib inline\n",
    "\n",
    "plt.hist(Region) # Plot histogram of our randomly generated hurling injury data (x)\n",
    "plt.ylabel('Number of Injuries') # label y axis \n",
    "plt.xlabel('Injured Region') # label x axis \n",
    "plt.title('Hurling Injury Occasion') # Add title\n",
    "plt.show()"
   ]
  },
  {
   "cell_type": "code",
   "execution_count": 41,
   "metadata": {},
   "outputs": [
    {
     "name": "stdout",
     "output_type": "stream",
     "text": [
      "           Age       Occasion              Region Weather Conditions\n",
      "0    19.885202           Game         Trunk/spine      Wet and Windy\n",
      "1    25.059673           Game  Forearm/wrist/hand                Wet\n",
      "2    23.007161       Training     Shin/ankle/foot                Dry\n",
      "3    27.127269           Game          Head/neck                 Dry\n",
      "4    19.486765    Unspecified                Knee                Dry\n",
      "5    26.851261           Game     Shin/ankle/foot                Wet\n",
      "6    22.471839           Game                Knee                Wet\n",
      "7    19.720772           Game  Shoulder/arm/elbow      Wet and Windy\n",
      "8    25.230002       Training         Trunk/spine                Dry\n",
      "9    22.517144       Training     Shin/ankle/foot                Dry\n",
      "10   25.322239           Game     Hip/groin/thigh      Dry and Windy\n",
      "11   24.898182       Training     Hip/groin/thigh                Dry\n",
      "12   26.585227           Game  Shoulder/arm/elbow                Dry\n",
      "13   21.751736  Training Game          Head/neck                 Dry\n",
      "14   25.581820           Game     Shin/ankle/foot                Dry\n",
      "15   27.970549           Game  Forearm/wrist/hand                Dry\n",
      "16   21.829893           Game     Hip/groin/thigh                Dry\n",
      "17   24.238386  Training Game                Knee                Dry\n",
      "18   17.761713           Game     Hip/groin/thigh      Dry and Windy\n",
      "19   22.960210           Game  Forearm/wrist/hand      Dry and Windy\n",
      "20   26.281653           Game                Knee                Dry\n",
      "21   23.670262       Training                Knee                Dry\n",
      "22   23.287184           Game  Forearm/wrist/hand                Dry\n",
      "23   26.154599           Game                Knee                Wet\n",
      "24   28.881785           Game     Hip/groin/thigh                Dry\n",
      "25   23.059435    Unspecified     Hip/groin/thigh                Wet\n",
      "26   25.723980       Training     Hip/groin/thigh                Dry\n",
      "27   20.980428           Game  Forearm/wrist/hand                Dry\n",
      "28   19.290985  Training Game     Hip/groin/thigh                Dry\n",
      "29   22.469675  Training Game     Shin/ankle/foot                Dry\n",
      "..         ...            ...                 ...                ...\n",
      "220  26.831357           Game     Shin/ankle/foot                Dry\n",
      "221  22.421567  Training Game     Hip/groin/thigh                Wet\n",
      "222  21.822293           Game     Shin/ankle/foot      Dry and Windy\n",
      "223  23.695663           Game                Knee                Dry\n",
      "224  20.089079           Game     Hip/groin/thigh                Dry\n",
      "225  22.065138           Game                Knee      Wet and Windy\n",
      "226  21.331675           Game         Trunk/spine                Dry\n",
      "227  21.044030           Game     Shin/ankle/foot                Dry\n",
      "228  26.428996       Training     Shin/ankle/foot                Dry\n",
      "229  23.808944  Training Game     Hip/groin/thigh      Dry and Windy\n",
      "230  25.672574  Training Game     Hip/groin/thigh                Dry\n",
      "231  23.062934  Training Game         Trunk/spine                Dry\n",
      "232  24.414345       Training     Hip/groin/thigh                Dry\n",
      "233  26.352132           Game     Shin/ankle/foot                Dry\n",
      "234  25.079136    Unspecified                Knee      Wet and Windy\n",
      "235  24.161629           Game     Shin/ankle/foot                Dry\n",
      "236  22.997329  Training Game  Forearm/wrist/hand                Dry\n",
      "237  27.198262           Game     Shin/ankle/foot                Dry\n",
      "238  20.804699           Game     Shin/ankle/foot                Wet\n",
      "239  24.722742       Training     Hip/groin/thigh                Dry\n",
      "240  23.460861           Game     Hip/groin/thigh                Dry\n",
      "241  20.985372           Game     Hip/groin/thigh                Dry\n",
      "242  21.384159           Game     Hip/groin/thigh                Dry\n",
      "243  25.214526  Training Game     Hip/groin/thigh                Dry\n",
      "244  24.361229           Game     Shin/ankle/foot                Dry\n",
      "245  25.725964  Training Game     Shin/ankle/foot                Dry\n",
      "246  22.290532           Game         Trunk/spine                Dry\n",
      "247  22.333133           Game  Forearm/wrist/hand                Dry\n",
      "248  19.302138  Training Game         Trunk/spine                Dry\n",
      "249  22.105552  Training Game     Shin/ankle/foot                Dry\n",
      "\n",
      "[250 rows x 4 columns]\n"
     ]
    }
   ],
   "source": [
    "#Create dataframe with all our randomly generated hurling injury data\n",
    "df=pd.DataFrame(data={'Region': Region, 'Weather Conditions': weather, 'Occasion': occasion, 'Age': age})\n",
    "print(df)"
   ]
  },
  {
   "cell_type": "code",
   "execution_count": null,
   "metadata": {
    "collapsed": true
   },
   "outputs": [],
   "source": []
  }
 ],
 "metadata": {
  "kernelspec": {
   "display_name": "Python 3",
   "language": "python",
   "name": "python3"
  },
  "language_info": {
   "codemirror_mode": {
    "name": "ipython",
    "version": 3
   },
   "file_extension": ".py",
   "mimetype": "text/x-python",
   "name": "python",
   "nbconvert_exporter": "python",
   "pygments_lexer": "ipython3",
   "version": "3.6.3"
  }
 },
 "nbformat": 4,
 "nbformat_minor": 2
}
